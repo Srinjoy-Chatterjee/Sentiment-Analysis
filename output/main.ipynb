{
 "cells": [
  {
   "cell_type": "markdown",
   "metadata": {},
   "source": [
    "# Web Scrapping with API"
   ]
  },
  {
   "cell_type": "code",
   "execution_count": 1,
   "metadata": {
    "execution": {
     "iopub.execute_input": "2023-11-16T14:18:25.246238Z",
     "iopub.status.busy": "2023-11-16T14:18:25.245240Z",
     "iopub.status.idle": "2023-11-16T14:18:25.307722Z",
     "shell.execute_reply": "2023-11-16T14:18:25.307722Z"
    }
   },
   "outputs": [],
   "source": [
    "import config\n",
    "import requests"
   ]
  },
  {
   "cell_type": "code",
   "execution_count": 2,
   "metadata": {
    "execution": {
     "iopub.execute_input": "2023-11-16T14:18:25.310726Z",
     "iopub.status.busy": "2023-11-16T14:18:25.309726Z",
     "iopub.status.idle": "2023-11-16T14:18:25.312704Z",
     "shell.execute_reply": "2023-11-16T14:18:25.312704Z"
    }
   },
   "outputs": [],
   "source": [
    "# Create a list to store comment dictionaries\n",
    "comments_list = []"
   ]
  },
  {
   "cell_type": "code",
   "execution_count": 3,
   "metadata": {
    "execution": {
     "iopub.execute_input": "2023-11-16T14:18:25.314706Z",
     "iopub.status.busy": "2023-11-16T14:18:25.314706Z",
     "iopub.status.idle": "2023-11-16T14:18:25.317082Z",
     "shell.execute_reply": "2023-11-16T14:18:25.317082Z"
    }
   },
   "outputs": [],
   "source": [
    "company = \"\"\n",
    "with open(\"company.txt\",\"r\") as file:\n",
    "    company = file.read()"
   ]
  },
  {
   "cell_type": "markdown",
   "metadata": {},
   "source": [
    "# Access Database"
   ]
  },
  {
   "cell_type": "code",
   "execution_count": 4,
   "metadata": {
    "execution": {
     "iopub.execute_input": "2023-11-16T14:18:25.319110Z",
     "iopub.status.busy": "2023-11-16T14:18:25.319110Z",
     "iopub.status.idle": "2023-11-16T14:18:25.321613Z",
     "shell.execute_reply": "2023-11-16T14:18:25.321613Z"
    }
   },
   "outputs": [],
   "source": [
    "#!pip install pymysql"
   ]
  },
  {
   "cell_type": "code",
   "execution_count": 5,
   "metadata": {
    "execution": {
     "iopub.execute_input": "2023-11-16T14:18:25.323639Z",
     "iopub.status.busy": "2023-11-16T14:18:25.323639Z",
     "iopub.status.idle": "2023-11-16T14:18:25.337911Z",
     "shell.execute_reply": "2023-11-16T14:18:25.337911Z"
    }
   },
   "outputs": [],
   "source": [
    "import connection"
   ]
  },
  {
   "cell_type": "code",
   "execution_count": 6,
   "metadata": {
    "execution": {
     "iopub.execute_input": "2023-11-16T14:18:25.340917Z",
     "iopub.status.busy": "2023-11-16T14:18:25.340917Z",
     "iopub.status.idle": "2023-11-16T14:18:25.746937Z",
     "shell.execute_reply": "2023-11-16T14:18:25.746937Z"
    }
   },
   "outputs": [],
   "source": [
    "con = connection.connect()\n",
    "stm = con.cursor()"
   ]
  },
  {
   "cell_type": "code",
   "execution_count": 7,
   "metadata": {
    "execution": {
     "iopub.execute_input": "2023-11-16T14:18:25.748941Z",
     "iopub.status.busy": "2023-11-16T14:18:25.748941Z",
     "iopub.status.idle": "2023-11-16T14:18:25.835037Z",
     "shell.execute_reply": "2023-11-16T14:18:25.835037Z"
    }
   },
   "outputs": [
    {
     "data": {
      "text/plain": [
       "1"
      ]
     },
     "execution_count": 7,
     "metadata": {},
     "output_type": "execute_result"
    }
   ],
   "source": [
    "q = f\"select * from companydetails where CompanyName='{company}'\"\n",
    "stm.execute(q)"
   ]
  },
  {
   "cell_type": "code",
   "execution_count": 8,
   "metadata": {
    "execution": {
     "iopub.execute_input": "2023-11-16T14:18:25.866019Z",
     "iopub.status.busy": "2023-11-16T14:18:25.866019Z",
     "iopub.status.idle": "2023-11-16T14:18:25.868479Z",
     "shell.execute_reply": "2023-11-16T14:18:25.868479Z"
    }
   },
   "outputs": [],
   "source": [
    "rows = stm.fetchall()"
   ]
  },
  {
   "cell_type": "code",
   "execution_count": 9,
   "metadata": {
    "execution": {
     "iopub.execute_input": "2023-11-16T14:18:25.870992Z",
     "iopub.status.busy": "2023-11-16T14:18:25.869486Z",
     "iopub.status.idle": "2023-11-16T14:18:25.873136Z",
     "shell.execute_reply": "2023-11-16T14:18:25.873136Z"
    }
   },
   "outputs": [],
   "source": [
    "Reciver_Mail = rows[0][1]\n",
    "page_id = rows[0][2]\n",
    "FB_post_id = rows[0][3]\n",
    "INS_post_id = rows[0][4]\n",
    "prev = rows[0][5]"
   ]
  },
  {
   "cell_type": "markdown",
   "metadata": {},
   "source": [
    "## (a) Facebook \n",
    "`Meta Graph API`"
   ]
  },
  {
   "cell_type": "code",
   "execution_count": 10,
   "metadata": {
    "execution": {
     "iopub.execute_input": "2023-11-16T14:18:25.875644Z",
     "iopub.status.busy": "2023-11-16T14:18:25.875139Z",
     "iopub.status.idle": "2023-11-16T14:18:28.118146Z",
     "shell.execute_reply": "2023-11-16T14:18:28.118146Z"
    }
   },
   "outputs": [],
   "source": [
    "#Scrapping Facebook Comments\n",
    "user_access_token = config.FB_user_access_token\n",
    "\n",
    "url = f'https://graph.facebook.com/v18.0/{page_id}_{FB_post_id}/comments'\n",
    "\n",
    "params = {\n",
    "    'access_token': user_access_token,\n",
    "    'fields': 'message,created_time',\n",
    "}\n",
    "\n",
    "response = requests.get(url, params=params)\n",
    "data = response.json()\n",
    "\n",
    "# Populate the list with comments\n",
    "if 'data' in data:\n",
    "    for comment in data['data']:\n",
    "        from_info = comment.get('from', {})\n",
    "        comments_list.append({\n",
    "                                    'Message': comment['message'],\n",
    "                                    'Timestamp': comment['created_time'],\n",
    "                                    'Source' : 'Facebook',\n",
    "                              })\n",
    "for comment in comments_list:\n",
    "    print(comment)"
   ]
  },
  {
   "cell_type": "markdown",
   "metadata": {},
   "source": [
    "## (b) Instagram \n",
    "`Meta Graph API`"
   ]
  },
  {
   "cell_type": "code",
   "execution_count": 11,
   "metadata": {
    "execution": {
     "iopub.execute_input": "2023-11-16T14:18:28.121142Z",
     "iopub.status.busy": "2023-11-16T14:18:28.120146Z",
     "iopub.status.idle": "2023-11-16T14:18:28.705037Z",
     "shell.execute_reply": "2023-11-16T14:18:28.705037Z"
    }
   },
   "outputs": [],
   "source": [
    "#Scrapping Instagram comments\n",
    "user_access_token = config.INS_user_access_token\n",
    "url = f'https://graph.facebook.com/v18.0/{INS_post_id}/comments'\n",
    "params = {\n",
    "    'fields': 'text,timestamp',\n",
    "    'access_token': user_access_token,\n",
    "}\n",
    "\n",
    "response = requests.get(url, params=params)\n",
    "data = response.json()\n",
    "\n",
    "# Populate the list with comments\n",
    "if 'data' in data:\n",
    "    for comment in data['data']:\n",
    "        from_info = comment.get('from', {})\n",
    "        comments_list.append({\n",
    "                                    'Message':comment['text'],\n",
    "                                    'Timestamp': comment['timestamp'],\n",
    "                                    'Source' : 'Instagram',\n",
    "                            })\n",
    "\n",
    "for comment in comments_list:\n",
    "    print(comment)"
   ]
  },
  {
   "cell_type": "markdown",
   "metadata": {},
   "source": [
    "## Sentiment Analysis"
   ]
  },
  {
   "cell_type": "markdown",
   "metadata": {},
   "source": [
    "## Roberta Pretrained Model"
   ]
  },
  {
   "cell_type": "code",
   "execution_count": 12,
   "metadata": {
    "execution": {
     "iopub.execute_input": "2023-11-16T14:18:28.708034Z",
     "iopub.status.busy": "2023-11-16T14:18:28.708034Z",
     "iopub.status.idle": "2023-11-16T14:18:28.710021Z",
     "shell.execute_reply": "2023-11-16T14:18:28.710021Z"
    }
   },
   "outputs": [],
   "source": [
    "#!pip install matplotlib"
   ]
  },
  {
   "cell_type": "code",
   "execution_count": 13,
   "metadata": {
    "execution": {
     "iopub.execute_input": "2023-11-16T14:18:28.712525Z",
     "iopub.status.busy": "2023-11-16T14:18:28.711525Z",
     "iopub.status.idle": "2023-11-16T14:18:28.714350Z",
     "shell.execute_reply": "2023-11-16T14:18:28.714350Z"
    }
   },
   "outputs": [],
   "source": [
    "#!pip install seaborn"
   ]
  },
  {
   "cell_type": "code",
   "execution_count": 14,
   "metadata": {
    "execution": {
     "iopub.execute_input": "2023-11-16T14:18:28.716352Z",
     "iopub.status.busy": "2023-11-16T14:18:28.716352Z",
     "iopub.status.idle": "2023-11-16T14:18:29.897179Z",
     "shell.execute_reply": "2023-11-16T14:18:29.897179Z"
    }
   },
   "outputs": [],
   "source": [
    "import pandas as pd\n",
    "import numpy as np\n",
    "import matplotlib.pyplot as plt\n",
    "import seaborn as sns"
   ]
  },
  {
   "cell_type": "code",
   "execution_count": 15,
   "metadata": {
    "execution": {
     "iopub.execute_input": "2023-11-16T14:18:29.900182Z",
     "iopub.status.busy": "2023-11-16T14:18:29.899183Z",
     "iopub.status.idle": "2023-11-16T14:18:29.902059Z",
     "shell.execute_reply": "2023-11-16T14:18:29.902059Z"
    }
   },
   "outputs": [],
   "source": [
    "#!pip install tqdm"
   ]
  },
  {
   "cell_type": "code",
   "execution_count": 16,
   "metadata": {
    "execution": {
     "iopub.execute_input": "2023-11-16T14:18:29.904061Z",
     "iopub.status.busy": "2023-11-16T14:18:29.904061Z",
     "iopub.status.idle": "2023-11-16T14:18:29.912176Z",
     "shell.execute_reply": "2023-11-16T14:18:29.912176Z"
    }
   },
   "outputs": [],
   "source": [
    "from tqdm.notebook import tqdm"
   ]
  },
  {
   "cell_type": "code",
   "execution_count": 17,
   "metadata": {
    "execution": {
     "iopub.execute_input": "2023-11-16T14:18:29.914665Z",
     "iopub.status.busy": "2023-11-16T14:18:29.913206Z",
     "iopub.status.idle": "2023-11-16T14:18:29.916343Z",
     "shell.execute_reply": "2023-11-16T14:18:29.916343Z"
    }
   },
   "outputs": [],
   "source": [
    "#pip install pywinpty"
   ]
  },
  {
   "cell_type": "code",
   "execution_count": 18,
   "metadata": {
    "execution": {
     "iopub.execute_input": "2023-11-16T14:18:29.918343Z",
     "iopub.status.busy": "2023-11-16T14:18:29.918343Z",
     "iopub.status.idle": "2023-11-16T14:18:29.919983Z",
     "shell.execute_reply": "2023-11-16T14:18:29.919983Z"
    }
   },
   "outputs": [],
   "source": [
    "#!pip install transformers"
   ]
  },
  {
   "cell_type": "code",
   "execution_count": 19,
   "metadata": {
    "execution": {
     "iopub.execute_input": "2023-11-16T14:18:29.921486Z",
     "iopub.status.busy": "2023-11-16T14:18:29.921486Z",
     "iopub.status.idle": "2023-11-16T14:18:29.923871Z",
     "shell.execute_reply": "2023-11-16T14:18:29.923871Z"
    }
   },
   "outputs": [],
   "source": [
    "#!pip install scipy"
   ]
  },
  {
   "cell_type": "code",
   "execution_count": 20,
   "metadata": {
    "execution": {
     "iopub.execute_input": "2023-11-16T14:18:29.925873Z",
     "iopub.status.busy": "2023-11-16T14:18:29.925873Z",
     "iopub.status.idle": "2023-11-16T14:18:32.251030Z",
     "shell.execute_reply": "2023-11-16T14:18:32.251030Z"
    }
   },
   "outputs": [],
   "source": [
    "from transformers import AutoTokenizer\n",
    "from transformers import AutoModelForSequenceClassification\n",
    "from scipy.special import softmax"
   ]
  },
  {
   "cell_type": "code",
   "execution_count": 21,
   "metadata": {
    "execution": {
     "iopub.execute_input": "2023-11-16T14:18:32.254539Z",
     "iopub.status.busy": "2023-11-16T14:18:32.254539Z",
     "iopub.status.idle": "2023-11-16T14:18:32.261035Z",
     "shell.execute_reply": "2023-11-16T14:18:32.261035Z"
    }
   },
   "outputs": [],
   "source": [
    "df = pd.DataFrame(comments_list, columns=['Message','Timestamp','Source'])"
   ]
  },
  {
   "cell_type": "code",
   "execution_count": 22,
   "metadata": {
    "execution": {
     "iopub.execute_input": "2023-11-16T14:18:32.263060Z",
     "iopub.status.busy": "2023-11-16T14:18:32.263060Z",
     "iopub.status.idle": "2023-11-16T14:18:32.271524Z",
     "shell.execute_reply": "2023-11-16T14:18:32.271524Z"
    }
   },
   "outputs": [
    {
     "name": "stdout",
     "output_type": "stream",
     "text": [
      "Message      object\n",
      "Timestamp    object\n",
      "Source       object\n",
      "dtype: object\n"
     ]
    },
    {
     "data": {
      "text/html": [
       "<div>\n",
       "<style scoped>\n",
       "    .dataframe tbody tr th:only-of-type {\n",
       "        vertical-align: middle;\n",
       "    }\n",
       "\n",
       "    .dataframe tbody tr th {\n",
       "        vertical-align: top;\n",
       "    }\n",
       "\n",
       "    .dataframe thead th {\n",
       "        text-align: right;\n",
       "    }\n",
       "</style>\n",
       "<table border=\"1\" class=\"dataframe\">\n",
       "  <thead>\n",
       "    <tr style=\"text-align: right;\">\n",
       "      <th></th>\n",
       "      <th>Message</th>\n",
       "      <th>Timestamp</th>\n",
       "      <th>Source</th>\n",
       "    </tr>\n",
       "  </thead>\n",
       "  <tbody>\n",
       "  </tbody>\n",
       "</table>\n",
       "</div>"
      ],
      "text/plain": [
       "Empty DataFrame\n",
       "Columns: [Message, Timestamp, Source]\n",
       "Index: []"
      ]
     },
     "execution_count": 22,
     "metadata": {},
     "output_type": "execute_result"
    }
   ],
   "source": [
    "print(df.dtypes)\n",
    "df"
   ]
  },
  {
   "cell_type": "code",
   "execution_count": 23,
   "metadata": {
    "execution": {
     "iopub.execute_input": "2023-11-16T14:18:32.273523Z",
     "iopub.status.busy": "2023-11-16T14:18:32.273523Z",
     "iopub.status.idle": "2023-11-16T14:18:32.276660Z",
     "shell.execute_reply": "2023-11-16T14:18:32.276660Z"
    }
   },
   "outputs": [],
   "source": [
    "df['Timestamp'] = pd.to_datetime(df['Timestamp'])"
   ]
  },
  {
   "cell_type": "code",
   "execution_count": 24,
   "metadata": {
    "execution": {
     "iopub.execute_input": "2023-11-16T14:18:32.278202Z",
     "iopub.status.busy": "2023-11-16T14:18:32.278202Z",
     "iopub.status.idle": "2023-11-16T14:18:32.281725Z",
     "shell.execute_reply": "2023-11-16T14:18:32.281725Z"
    }
   },
   "outputs": [
    {
     "name": "stdout",
     "output_type": "stream",
     "text": [
      "Message              object\n",
      "Timestamp    datetime64[ns]\n",
      "Source               object\n",
      "dtype: object\n"
     ]
    }
   ],
   "source": [
    "print(df.dtypes)"
   ]
  },
  {
   "cell_type": "code",
   "execution_count": 25,
   "metadata": {
    "execution": {
     "iopub.execute_input": "2023-11-16T14:18:32.283726Z",
     "iopub.status.busy": "2023-11-16T14:18:32.283726Z",
     "iopub.status.idle": "2023-11-16T14:18:32.286586Z",
     "shell.execute_reply": "2023-11-16T14:18:32.286586Z"
    }
   },
   "outputs": [],
   "source": [
    "df.sort_values(by='Timestamp', inplace = True)"
   ]
  },
  {
   "cell_type": "code",
   "execution_count": 26,
   "metadata": {
    "execution": {
     "iopub.execute_input": "2023-11-16T14:18:32.288588Z",
     "iopub.status.busy": "2023-11-16T14:18:32.288588Z",
     "iopub.status.idle": "2023-11-16T14:18:32.295310Z",
     "shell.execute_reply": "2023-11-16T14:18:32.295310Z"
    }
   },
   "outputs": [
    {
     "data": {
      "text/html": [
       "<div>\n",
       "<style scoped>\n",
       "    .dataframe tbody tr th:only-of-type {\n",
       "        vertical-align: middle;\n",
       "    }\n",
       "\n",
       "    .dataframe tbody tr th {\n",
       "        vertical-align: top;\n",
       "    }\n",
       "\n",
       "    .dataframe thead th {\n",
       "        text-align: right;\n",
       "    }\n",
       "</style>\n",
       "<table border=\"1\" class=\"dataframe\">\n",
       "  <thead>\n",
       "    <tr style=\"text-align: right;\">\n",
       "      <th></th>\n",
       "      <th>Message</th>\n",
       "      <th>Timestamp</th>\n",
       "      <th>Source</th>\n",
       "    </tr>\n",
       "  </thead>\n",
       "  <tbody>\n",
       "  </tbody>\n",
       "</table>\n",
       "</div>"
      ],
      "text/plain": [
       "Empty DataFrame\n",
       "Columns: [Message, Timestamp, Source]\n",
       "Index: []"
      ]
     },
     "execution_count": 26,
     "metadata": {},
     "output_type": "execute_result"
    }
   ],
   "source": [
    "df"
   ]
  },
  {
   "cell_type": "code",
   "execution_count": 27,
   "metadata": {
    "execution": {
     "iopub.execute_input": "2023-11-16T14:18:32.297312Z",
     "iopub.status.busy": "2023-11-16T14:18:32.297312Z",
     "iopub.status.idle": "2023-11-16T14:18:36.952537Z",
     "shell.execute_reply": "2023-11-16T14:18:36.952537Z"
    }
   },
   "outputs": [],
   "source": [
    "MODEL = f\"cardiffnlp/twitter-roberta-base-sentiment\"\n",
    "tokenizer = AutoTokenizer.from_pretrained(MODEL)\n",
    "model = AutoModelForSequenceClassification.from_pretrained(MODEL)"
   ]
  },
  {
   "cell_type": "code",
   "execution_count": 28,
   "metadata": {
    "execution": {
     "iopub.execute_input": "2023-11-16T14:18:36.955535Z",
     "iopub.status.busy": "2023-11-16T14:18:36.954538Z",
     "iopub.status.idle": "2023-11-16T14:18:36.958319Z",
     "shell.execute_reply": "2023-11-16T14:18:36.958319Z"
    }
   },
   "outputs": [],
   "source": [
    "def polarity_scores_roberta(example):\n",
    "    encoded_text = tokenizer(example, return_tensors='pt')\n",
    "    output = model(**encoded_text)\n",
    "    scores = output[0][0].detach().numpy()\n",
    "    scores = softmax(scores)\n",
    "    scores_dict = {\n",
    "        'roberta_neg' : scores[0],\n",
    "        'roberta_neu' : scores[1],\n",
    "        'roberta_pos' : scores[2]\n",
    "    }\n",
    "    return scores_dict"
   ]
  },
  {
   "cell_type": "code",
   "execution_count": 29,
   "metadata": {
    "execution": {
     "iopub.execute_input": "2023-11-16T14:18:36.961869Z",
     "iopub.status.busy": "2023-11-16T14:18:36.960832Z",
     "iopub.status.idle": "2023-11-16T14:18:36.964284Z",
     "shell.execute_reply": "2023-11-16T14:18:36.964284Z"
    }
   },
   "outputs": [],
   "source": [
    "#!pip install --upgrade jupyter"
   ]
  },
  {
   "cell_type": "code",
   "execution_count": 30,
   "metadata": {
    "execution": {
     "iopub.execute_input": "2023-11-16T14:18:36.967282Z",
     "iopub.status.busy": "2023-11-16T14:18:36.966285Z",
     "iopub.status.idle": "2023-11-16T14:18:36.969005Z",
     "shell.execute_reply": "2023-11-16T14:18:36.969005Z"
    }
   },
   "outputs": [],
   "source": [
    "#!pip install --upgrade ipywidgets"
   ]
  },
  {
   "cell_type": "code",
   "execution_count": 31,
   "metadata": {
    "execution": {
     "iopub.execute_input": "2023-11-16T14:18:36.971509Z",
     "iopub.status.busy": "2023-11-16T14:18:36.971509Z",
     "iopub.status.idle": "2023-11-16T14:18:36.986692Z",
     "shell.execute_reply": "2023-11-16T14:18:36.986692Z"
    }
   },
   "outputs": [
    {
     "data": {
      "application/vnd.jupyter.widget-view+json": {
       "model_id": "487ee115037843f3b85cc24461903382",
       "version_major": 2,
       "version_minor": 0
      },
      "text/plain": [
       "0it [00:00, ?it/s]"
      ]
     },
     "metadata": {},
     "output_type": "display_data"
    }
   ],
   "source": [
    "base : float\n",
    "base = 10.00\n",
    "\n",
    "res = {\n",
    "    'pos' : [],\n",
    "    'neg' : []\n",
    "}\n",
    "for i,row in tqdm(df.iterrows(), total=len(df)):\n",
    "    try:\n",
    "        print(row);\n",
    "        text = row['Message']\n",
    "        #myid = row['Id']\n",
    "        roberta_result = polarity_scores_roberta(text)\n",
    "        print(roberta_result)\n",
    "        if roberta_result['roberta_neg']>roberta_result['roberta_neu'] and roberta_result['roberta_neg']>roberta_result['roberta_pos'] :\n",
    "            base-=roberta_result['roberta_neg']\n",
    "            res['neg'].append({\n",
    "                'Comment' : row['Message'],\n",
    "                'Source' :row['Source']\n",
    "            })\n",
    "        if roberta_result['roberta_pos']>roberta_result['roberta_neu'] and roberta_result['roberta_pos']>roberta_result['roberta_neg'] :\n",
    "            base+=roberta_result['roberta_pos']\n",
    "            res['pos'].append({\n",
    "                'Comment' : row['Message'],\n",
    "                'Source' :row['Source']\n",
    "            })\n",
    "        #print(base);\n",
    "    except RuntimeError:\n",
    "        print(f'Broke for id {i}')"
   ]
  },
  {
   "cell_type": "code",
   "execution_count": 32,
   "metadata": {
    "execution": {
     "iopub.execute_input": "2023-11-16T14:18:36.994555Z",
     "iopub.status.busy": "2023-11-16T14:18:36.994555Z",
     "iopub.status.idle": "2023-11-16T14:18:36.997376Z",
     "shell.execute_reply": "2023-11-16T14:18:36.997376Z"
    }
   },
   "outputs": [
    {
     "name": "stdout",
     "output_type": "stream",
     "text": [
      "10.0\n"
     ]
    }
   ],
   "source": [
    "print(base)"
   ]
  },
  {
   "cell_type": "markdown",
   "metadata": {},
   "source": [
    "# Update Database"
   ]
  },
  {
   "cell_type": "code",
   "execution_count": 33,
   "metadata": {
    "execution": {
     "iopub.execute_input": "2023-11-16T14:18:36.999383Z",
     "iopub.status.busy": "2023-11-16T14:18:36.999383Z",
     "iopub.status.idle": "2023-11-16T14:18:37.166150Z",
     "shell.execute_reply": "2023-11-16T14:18:37.166150Z"
    }
   },
   "outputs": [],
   "source": [
    "q = f\"update companydetails set Score = {base} where CompanyName = '{company}'\"\n",
    "stm.execute(q)\n",
    "con.commit()"
   ]
  },
  {
   "cell_type": "markdown",
   "metadata": {},
   "source": [
    "# Sending Email"
   ]
  },
  {
   "cell_type": "code",
   "execution_count": 34,
   "metadata": {
    "execution": {
     "iopub.execute_input": "2023-11-16T14:18:37.168174Z",
     "iopub.status.busy": "2023-11-16T14:18:37.168174Z",
     "iopub.status.idle": "2023-11-16T14:18:37.179313Z",
     "shell.execute_reply": "2023-11-16T14:18:37.179313Z"
    }
   },
   "outputs": [],
   "source": [
    "import smtplib\n",
    "from email.mime.text import MIMEText\n",
    "from email.mime.multipart import MIMEMultipart"
   ]
  },
  {
   "cell_type": "code",
   "execution_count": 35,
   "metadata": {
    "execution": {
     "iopub.execute_input": "2023-11-16T14:18:37.181838Z",
     "iopub.status.busy": "2023-11-16T14:18:37.181838Z",
     "iopub.status.idle": "2023-11-16T14:18:37.185776Z",
     "shell.execute_reply": "2023-11-16T14:18:37.185776Z"
    }
   },
   "outputs": [],
   "source": [
    "def send_email(subject, body, to_email, smtp_server, smtp_port, smtp_username, smtp_password):\n",
    "    # Create the MIME object\n",
    "    msg = MIMEMultipart()\n",
    "    msg['From'] = smtp_username\n",
    "    msg['To'] = to_email\n",
    "    msg['Subject'] = subject\n",
    "\n",
    "    msg.attach(MIMEText(body, 'plain'))\n",
    "\n",
    "    server = smtplib.SMTP(smtp_server, smtp_port)\n",
    "    server.starttls()\n",
    "    server.login(smtp_username, smtp_password)\n",
    "\n",
    "    server.sendmail(smtp_username, to_email, msg.as_string())\n",
    "    server.quit()"
   ]
  },
  {
   "cell_type": "code",
   "execution_count": 36,
   "metadata": {
    "execution": {
     "iopub.execute_input": "2023-11-16T14:18:37.187778Z",
     "iopub.status.busy": "2023-11-16T14:18:37.187778Z",
     "iopub.status.idle": "2023-11-16T14:18:37.190551Z",
     "shell.execute_reply": "2023-11-16T14:18:37.190551Z"
    }
   },
   "outputs": [],
   "source": [
    "subject = \"Change In Score Detected\"\n",
    "body = f\"New Score : {base} \\nDelta change : {base-prev} \\nLast 5 negitive comments:{res['neg'][-5:]} \\nLast 5 positive comments:{res['pos'][-5:]}\""
   ]
  },
  {
   "cell_type": "code",
   "execution_count": 37,
   "metadata": {
    "execution": {
     "iopub.execute_input": "2023-11-16T14:18:37.192552Z",
     "iopub.status.busy": "2023-11-16T14:18:37.192552Z",
     "iopub.status.idle": "2023-11-16T14:18:37.194721Z",
     "shell.execute_reply": "2023-11-16T14:18:37.194721Z"
    }
   },
   "outputs": [],
   "source": [
    "smtp_server = \"smtp.gmail.com\"\n",
    "smtp_port = 587 "
   ]
  },
  {
   "cell_type": "code",
   "execution_count": 38,
   "metadata": {
    "execution": {
     "iopub.execute_input": "2023-11-16T14:18:37.196723Z",
     "iopub.status.busy": "2023-11-16T14:18:37.196723Z",
     "iopub.status.idle": "2023-11-16T14:18:37.199015Z",
     "shell.execute_reply": "2023-11-16T14:18:37.199015Z"
    }
   },
   "outputs": [],
   "source": [
    "if(prev!=base) :\n",
    "    send_email(subject=subject,\n",
    "            body=body,\n",
    "            to_email=Reciver_Mail,\n",
    "            smtp_server=smtp_server,\n",
    "            smtp_port=smtp_port,\n",
    "            smtp_username=config.Sender_mail,\n",
    "            smtp_password=config.AppPassword)\n",
    "    print(\"Mail send\")"
   ]
  },
  {
   "cell_type": "code",
   "execution_count": 39,
   "metadata": {
    "execution": {
     "iopub.execute_input": "2023-11-16T14:18:37.201017Z",
     "iopub.status.busy": "2023-11-16T14:18:37.201017Z",
     "iopub.status.idle": "2023-11-16T14:18:37.203135Z",
     "shell.execute_reply": "2023-11-16T14:18:37.203135Z"
    }
   },
   "outputs": [],
   "source": [
    "stm.close()\n",
    "con.close()"
   ]
  },
  {
   "cell_type": "code",
   "execution_count": 40,
   "metadata": {
    "execution": {
     "iopub.execute_input": "2023-11-16T14:18:37.205166Z",
     "iopub.status.busy": "2023-11-16T14:18:37.205166Z",
     "iopub.status.idle": "2023-11-16T14:18:37.207207Z",
     "shell.execute_reply": "2023-11-16T14:18:37.207207Z"
    }
   },
   "outputs": [],
   "source": [
    "text = f\"{prev} {base}\""
   ]
  },
  {
   "cell_type": "code",
   "execution_count": 41,
   "metadata": {
    "execution": {
     "iopub.execute_input": "2023-11-16T14:18:37.209211Z",
     "iopub.status.busy": "2023-11-16T14:18:37.209211Z",
     "iopub.status.idle": "2023-11-16T14:18:37.212593Z",
     "shell.execute_reply": "2023-11-16T14:18:37.212593Z"
    }
   },
   "outputs": [],
   "source": [
    "with open('score.txt','w') as file:\n",
    "    file.write(text)"
   ]
  }
 ],
 "metadata": {
  "kernelspec": {
   "display_name": "base",
   "language": "python",
   "name": "python3"
  },
  "language_info": {
   "codemirror_mode": {
    "name": "ipython",
    "version": 3
   },
   "file_extension": ".py",
   "mimetype": "text/x-python",
   "name": "python",
   "nbconvert_exporter": "python",
   "pygments_lexer": "ipython3",
   "version": "3.11.6"
  },
  "widgets": {
   "application/vnd.jupyter.widget-state+json": {
    "state": {
     "17ebeb20954f45eda00f28cc5b13eff5": {
      "model_module": "@jupyter-widgets/controls",
      "model_module_version": "2.0.0",
      "model_name": "FloatProgressModel",
      "state": {
       "_dom_classes": [],
       "_model_module": "@jupyter-widgets/controls",
       "_model_module_version": "2.0.0",
       "_model_name": "FloatProgressModel",
       "_view_count": null,
       "_view_module": "@jupyter-widgets/controls",
       "_view_module_version": "2.0.0",
       "_view_name": "ProgressView",
       "bar_style": "success",
       "description": "",
       "description_allow_html": false,
       "layout": "IPY_MODEL_2d6dc549330247c9a05f450eb859f0fb",
       "max": 1.0,
       "min": 0.0,
       "orientation": "horizontal",
       "style": "IPY_MODEL_f89754b7d0ce4d3f90c5b7a324669740",
       "tabbable": null,
       "tooltip": null,
       "value": 0.0
      }
     },
     "2d6dc549330247c9a05f450eb859f0fb": {
      "model_module": "@jupyter-widgets/base",
      "model_module_version": "2.0.0",
      "model_name": "LayoutModel",
      "state": {
       "_model_module": "@jupyter-widgets/base",
       "_model_module_version": "2.0.0",
       "_model_name": "LayoutModel",
       "_view_count": null,
       "_view_module": "@jupyter-widgets/base",
       "_view_module_version": "2.0.0",
       "_view_name": "LayoutView",
       "align_content": null,
       "align_items": null,
       "align_self": null,
       "border_bottom": null,
       "border_left": null,
       "border_right": null,
       "border_top": null,
       "bottom": null,
       "display": null,
       "flex": null,
       "flex_flow": null,
       "grid_area": null,
       "grid_auto_columns": null,
       "grid_auto_flow": null,
       "grid_auto_rows": null,
       "grid_column": null,
       "grid_gap": null,
       "grid_row": null,
       "grid_template_areas": null,
       "grid_template_columns": null,
       "grid_template_rows": null,
       "height": null,
       "justify_content": null,
       "justify_items": null,
       "left": null,
       "margin": null,
       "max_height": null,
       "max_width": null,
       "min_height": null,
       "min_width": null,
       "object_fit": null,
       "object_position": null,
       "order": null,
       "overflow": null,
       "padding": null,
       "right": null,
       "top": null,
       "visibility": null,
       "width": "20px"
      }
     },
     "3f8cd1020cb24b81a72a87643ee8bacf": {
      "model_module": "@jupyter-widgets/controls",
      "model_module_version": "2.0.0",
      "model_name": "HTMLModel",
      "state": {
       "_dom_classes": [],
       "_model_module": "@jupyter-widgets/controls",
       "_model_module_version": "2.0.0",
       "_model_name": "HTMLModel",
       "_view_count": null,
       "_view_module": "@jupyter-widgets/controls",
       "_view_module_version": "2.0.0",
       "_view_name": "HTMLView",
       "description": "",
       "description_allow_html": false,
       "layout": "IPY_MODEL_5b7428b6f87a48b8888f72b8eff0c7a4",
       "placeholder": "​",
       "style": "IPY_MODEL_a741410e95a54fedb948fd589958f22a",
       "tabbable": null,
       "tooltip": null,
       "value": " 0/0 [00:00&lt;?, ?it/s]"
      }
     },
     "487ee115037843f3b85cc24461903382": {
      "model_module": "@jupyter-widgets/controls",
      "model_module_version": "2.0.0",
      "model_name": "HBoxModel",
      "state": {
       "_dom_classes": [],
       "_model_module": "@jupyter-widgets/controls",
       "_model_module_version": "2.0.0",
       "_model_name": "HBoxModel",
       "_view_count": null,
       "_view_module": "@jupyter-widgets/controls",
       "_view_module_version": "2.0.0",
       "_view_name": "HBoxView",
       "box_style": "",
       "children": [
        "IPY_MODEL_a88a3b93b64849379c446fd8e022bcbd",
        "IPY_MODEL_17ebeb20954f45eda00f28cc5b13eff5",
        "IPY_MODEL_3f8cd1020cb24b81a72a87643ee8bacf"
       ],
       "layout": "IPY_MODEL_d93e2ca106e443498e7e1a15619ceb25",
       "tabbable": null,
       "tooltip": null
      }
     },
     "54ca2a9495f44223881f465d4d6740e7": {
      "model_module": "@jupyter-widgets/base",
      "model_module_version": "2.0.0",
      "model_name": "LayoutModel",
      "state": {
       "_model_module": "@jupyter-widgets/base",
       "_model_module_version": "2.0.0",
       "_model_name": "LayoutModel",
       "_view_count": null,
       "_view_module": "@jupyter-widgets/base",
       "_view_module_version": "2.0.0",
       "_view_name": "LayoutView",
       "align_content": null,
       "align_items": null,
       "align_self": null,
       "border_bottom": null,
       "border_left": null,
       "border_right": null,
       "border_top": null,
       "bottom": null,
       "display": null,
       "flex": null,
       "flex_flow": null,
       "grid_area": null,
       "grid_auto_columns": null,
       "grid_auto_flow": null,
       "grid_auto_rows": null,
       "grid_column": null,
       "grid_gap": null,
       "grid_row": null,
       "grid_template_areas": null,
       "grid_template_columns": null,
       "grid_template_rows": null,
       "height": null,
       "justify_content": null,
       "justify_items": null,
       "left": null,
       "margin": null,
       "max_height": null,
       "max_width": null,
       "min_height": null,
       "min_width": null,
       "object_fit": null,
       "object_position": null,
       "order": null,
       "overflow": null,
       "padding": null,
       "right": null,
       "top": null,
       "visibility": null,
       "width": null
      }
     },
     "5b7428b6f87a48b8888f72b8eff0c7a4": {
      "model_module": "@jupyter-widgets/base",
      "model_module_version": "2.0.0",
      "model_name": "LayoutModel",
      "state": {
       "_model_module": "@jupyter-widgets/base",
       "_model_module_version": "2.0.0",
       "_model_name": "LayoutModel",
       "_view_count": null,
       "_view_module": "@jupyter-widgets/base",
       "_view_module_version": "2.0.0",
       "_view_name": "LayoutView",
       "align_content": null,
       "align_items": null,
       "align_self": null,
       "border_bottom": null,
       "border_left": null,
       "border_right": null,
       "border_top": null,
       "bottom": null,
       "display": null,
       "flex": null,
       "flex_flow": null,
       "grid_area": null,
       "grid_auto_columns": null,
       "grid_auto_flow": null,
       "grid_auto_rows": null,
       "grid_column": null,
       "grid_gap": null,
       "grid_row": null,
       "grid_template_areas": null,
       "grid_template_columns": null,
       "grid_template_rows": null,
       "height": null,
       "justify_content": null,
       "justify_items": null,
       "left": null,
       "margin": null,
       "max_height": null,
       "max_width": null,
       "min_height": null,
       "min_width": null,
       "object_fit": null,
       "object_position": null,
       "order": null,
       "overflow": null,
       "padding": null,
       "right": null,
       "top": null,
       "visibility": null,
       "width": null
      }
     },
     "a741410e95a54fedb948fd589958f22a": {
      "model_module": "@jupyter-widgets/controls",
      "model_module_version": "2.0.0",
      "model_name": "HTMLStyleModel",
      "state": {
       "_model_module": "@jupyter-widgets/controls",
       "_model_module_version": "2.0.0",
       "_model_name": "HTMLStyleModel",
       "_view_count": null,
       "_view_module": "@jupyter-widgets/base",
       "_view_module_version": "2.0.0",
       "_view_name": "StyleView",
       "background": null,
       "description_width": "",
       "font_size": null,
       "text_color": null
      }
     },
     "a88a3b93b64849379c446fd8e022bcbd": {
      "model_module": "@jupyter-widgets/controls",
      "model_module_version": "2.0.0",
      "model_name": "HTMLModel",
      "state": {
       "_dom_classes": [],
       "_model_module": "@jupyter-widgets/controls",
       "_model_module_version": "2.0.0",
       "_model_name": "HTMLModel",
       "_view_count": null,
       "_view_module": "@jupyter-widgets/controls",
       "_view_module_version": "2.0.0",
       "_view_name": "HTMLView",
       "description": "",
       "description_allow_html": false,
       "layout": "IPY_MODEL_54ca2a9495f44223881f465d4d6740e7",
       "placeholder": "​",
       "style": "IPY_MODEL_ceffd02144aa4ef0a5b82f1929225fda",
       "tabbable": null,
       "tooltip": null,
       "value": ""
      }
     },
     "ceffd02144aa4ef0a5b82f1929225fda": {
      "model_module": "@jupyter-widgets/controls",
      "model_module_version": "2.0.0",
      "model_name": "HTMLStyleModel",
      "state": {
       "_model_module": "@jupyter-widgets/controls",
       "_model_module_version": "2.0.0",
       "_model_name": "HTMLStyleModel",
       "_view_count": null,
       "_view_module": "@jupyter-widgets/base",
       "_view_module_version": "2.0.0",
       "_view_name": "StyleView",
       "background": null,
       "description_width": "",
       "font_size": null,
       "text_color": null
      }
     },
     "d93e2ca106e443498e7e1a15619ceb25": {
      "model_module": "@jupyter-widgets/base",
      "model_module_version": "2.0.0",
      "model_name": "LayoutModel",
      "state": {
       "_model_module": "@jupyter-widgets/base",
       "_model_module_version": "2.0.0",
       "_model_name": "LayoutModel",
       "_view_count": null,
       "_view_module": "@jupyter-widgets/base",
       "_view_module_version": "2.0.0",
       "_view_name": "LayoutView",
       "align_content": null,
       "align_items": null,
       "align_self": null,
       "border_bottom": null,
       "border_left": null,
       "border_right": null,
       "border_top": null,
       "bottom": null,
       "display": null,
       "flex": null,
       "flex_flow": null,
       "grid_area": null,
       "grid_auto_columns": null,
       "grid_auto_flow": null,
       "grid_auto_rows": null,
       "grid_column": null,
       "grid_gap": null,
       "grid_row": null,
       "grid_template_areas": null,
       "grid_template_columns": null,
       "grid_template_rows": null,
       "height": null,
       "justify_content": null,
       "justify_items": null,
       "left": null,
       "margin": null,
       "max_height": null,
       "max_width": null,
       "min_height": null,
       "min_width": null,
       "object_fit": null,
       "object_position": null,
       "order": null,
       "overflow": null,
       "padding": null,
       "right": null,
       "top": null,
       "visibility": null,
       "width": null
      }
     },
     "f89754b7d0ce4d3f90c5b7a324669740": {
      "model_module": "@jupyter-widgets/controls",
      "model_module_version": "2.0.0",
      "model_name": "ProgressStyleModel",
      "state": {
       "_model_module": "@jupyter-widgets/controls",
       "_model_module_version": "2.0.0",
       "_model_name": "ProgressStyleModel",
       "_view_count": null,
       "_view_module": "@jupyter-widgets/base",
       "_view_module_version": "2.0.0",
       "_view_name": "StyleView",
       "bar_color": null,
       "description_width": ""
      }
     }
    },
    "version_major": 2,
    "version_minor": 0
   }
  }
 },
 "nbformat": 4,
 "nbformat_minor": 2
}
