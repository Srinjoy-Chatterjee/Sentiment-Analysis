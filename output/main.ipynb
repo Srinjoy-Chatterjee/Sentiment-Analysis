{
 "cells": [
  {
   "cell_type": "markdown",
   "metadata": {},
   "source": [
    "# Web Scrapping with API"
   ]
  },
  {
   "cell_type": "code",
   "execution_count": 1,
   "metadata": {
    "execution": {
     "iopub.execute_input": "2023-11-16T16:47:33.718986Z",
     "iopub.status.busy": "2023-11-16T16:47:33.718986Z",
     "iopub.status.idle": "2023-11-16T16:47:33.781447Z",
     "shell.execute_reply": "2023-11-16T16:47:33.781447Z"
    }
   },
   "outputs": [],
   "source": [
    "import config\n",
    "import requests"
   ]
  },
  {
   "cell_type": "code",
   "execution_count": 2,
   "metadata": {
    "execution": {
     "iopub.execute_input": "2023-11-16T16:47:33.784458Z",
     "iopub.status.busy": "2023-11-16T16:47:33.783460Z",
     "iopub.status.idle": "2023-11-16T16:47:33.786323Z",
     "shell.execute_reply": "2023-11-16T16:47:33.786323Z"
    }
   },
   "outputs": [],
   "source": [
    "# Create a list to store comment dictionaries\n",
    "comments_list = []"
   ]
  },
  {
   "cell_type": "code",
   "execution_count": 3,
   "metadata": {
    "execution": {
     "iopub.execute_input": "2023-11-16T16:47:33.788841Z",
     "iopub.status.busy": "2023-11-16T16:47:33.788841Z",
     "iopub.status.idle": "2023-11-16T16:47:33.791392Z",
     "shell.execute_reply": "2023-11-16T16:47:33.791392Z"
    }
   },
   "outputs": [],
   "source": [
    "company = \"\"\n",
    "with open(\"company.txt\",\"r\") as file:\n",
    "    company = file.read()"
   ]
  },
  {
   "cell_type": "markdown",
   "metadata": {},
   "source": [
    "# Access Database"
   ]
  },
  {
   "cell_type": "code",
   "execution_count": 4,
   "metadata": {
    "execution": {
     "iopub.execute_input": "2023-11-16T16:47:33.793905Z",
     "iopub.status.busy": "2023-11-16T16:47:33.793905Z",
     "iopub.status.idle": "2023-11-16T16:47:33.796781Z",
     "shell.execute_reply": "2023-11-16T16:47:33.796781Z"
    }
   },
   "outputs": [],
   "source": [
    "#!pip install pymysql"
   ]
  },
  {
   "cell_type": "code",
   "execution_count": 5,
   "metadata": {
    "execution": {
     "iopub.execute_input": "2023-11-16T16:47:33.798788Z",
     "iopub.status.busy": "2023-11-16T16:47:33.798788Z",
     "iopub.status.idle": "2023-11-16T16:47:33.812256Z",
     "shell.execute_reply": "2023-11-16T16:47:33.812256Z"
    }
   },
   "outputs": [],
   "source": [
    "import connection"
   ]
  },
  {
   "cell_type": "code",
   "execution_count": 6,
   "metadata": {
    "execution": {
     "iopub.execute_input": "2023-11-16T16:47:33.814260Z",
     "iopub.status.busy": "2023-11-16T16:47:33.814260Z",
     "iopub.status.idle": "2023-11-16T16:47:34.226387Z",
     "shell.execute_reply": "2023-11-16T16:47:34.226387Z"
    }
   },
   "outputs": [],
   "source": [
    "con = connection.connect()\n",
    "stm = con.cursor()"
   ]
  },
  {
   "cell_type": "code",
   "execution_count": 7,
   "metadata": {
    "execution": {
     "iopub.execute_input": "2023-11-16T16:47:34.228898Z",
     "iopub.status.busy": "2023-11-16T16:47:34.228898Z",
     "iopub.status.idle": "2023-11-16T16:47:34.317013Z",
     "shell.execute_reply": "2023-11-16T16:47:34.317013Z"
    }
   },
   "outputs": [
    {
     "data": {
      "text/plain": [
       "1"
      ]
     },
     "execution_count": 7,
     "metadata": {},
     "output_type": "execute_result"
    }
   ],
   "source": [
    "q = f\"select * from companydetails where CompanyName='{company}'\"\n",
    "stm.execute(q)"
   ]
  },
  {
   "cell_type": "code",
   "execution_count": 8,
   "metadata": {
    "execution": {
     "iopub.execute_input": "2023-11-16T16:47:34.348718Z",
     "iopub.status.busy": "2023-11-16T16:47:34.348718Z",
     "iopub.status.idle": "2023-11-16T16:47:34.351558Z",
     "shell.execute_reply": "2023-11-16T16:47:34.351558Z"
    }
   },
   "outputs": [],
   "source": [
    "rows = stm.fetchall()"
   ]
  },
  {
   "cell_type": "code",
   "execution_count": 9,
   "metadata": {
    "execution": {
     "iopub.execute_input": "2023-11-16T16:47:34.353576Z",
     "iopub.status.busy": "2023-11-16T16:47:34.353576Z",
     "iopub.status.idle": "2023-11-16T16:47:34.357124Z",
     "shell.execute_reply": "2023-11-16T16:47:34.357124Z"
    }
   },
   "outputs": [
    {
     "data": {
      "text/plain": [
       "(('Company 2',\n",
       "  'company.name.2.test@gmail.com',\n",
       "  '61553785493448',\n",
       "  '122094113372126183',\n",
       "  '17993439215366446',\n",
       "  'EAALZCZCJv92uABOylJzf63QDrpEQu90mX0AeroL4XaZAl9WQ0tBuGDiiGZCAEc70umtwXkKilqcGIKJ24hS3uHfhGbjLUXnSuA0xXXRit8kdnfjinFzyrHreni8Jzxh6NmgjgGRBIZACuq5q7cYBleFo3I23sP6CDnZA5DDYWtohlwuKeYGFfND6LlXispc2id',\n",
       "  'EAALZCZCJv92uABOylJzf63QDrpEQu90mX0AeroL4XaZAl9WQ0tBuGDiiGZCAEc70umtwXkKilqcGIKJ24hS3uHfhGbjLUXnSuA0xXXRit8kdnfjinFzyrHreni8Jzxh6NmgjgGRBIZACuq5q7cYBleFo3I23sP6CDnZA5DDYWtohlwuKeYGFfND6LlXispc2id',\n",
       "  11.886492908000946),)"
      ]
     },
     "execution_count": 9,
     "metadata": {},
     "output_type": "execute_result"
    }
   ],
   "source": [
    "rows"
   ]
  },
  {
   "cell_type": "code",
   "execution_count": 10,
   "metadata": {
    "execution": {
     "iopub.execute_input": "2023-11-16T16:47:34.358635Z",
     "iopub.status.busy": "2023-11-16T16:47:34.358635Z",
     "iopub.status.idle": "2023-11-16T16:47:34.361786Z",
     "shell.execute_reply": "2023-11-16T16:47:34.361786Z"
    }
   },
   "outputs": [],
   "source": [
    "Reciver_Mail = rows[0][1]\n",
    "page_id = rows[0][2]\n",
    "FB_post_id = rows[0][3]\n",
    "INS_post_id = rows[0][4]\n",
    "FB_access = rows[0][5]\n",
    "INS_access = rows[0][6]\n",
    "prev = rows[0][7]"
   ]
  },
  {
   "cell_type": "markdown",
   "metadata": {},
   "source": [
    "## (a) Facebook \n",
    "`Meta Graph API`"
   ]
  },
  {
   "cell_type": "code",
   "execution_count": 11,
   "metadata": {
    "execution": {
     "iopub.execute_input": "2023-11-16T16:47:34.363789Z",
     "iopub.status.busy": "2023-11-16T16:47:34.363789Z",
     "iopub.status.idle": "2023-11-16T16:47:34.933786Z",
     "shell.execute_reply": "2023-11-16T16:47:34.933786Z"
    }
   },
   "outputs": [],
   "source": [
    "#Scrapping Facebook Comments\n",
    "user_access_token = FB_access\n",
    "\n",
    "url = f'https://graph.facebook.com/v18.0/{page_id}_{FB_post_id}/comments'\n",
    "\n",
    "params = {\n",
    "    'access_token': user_access_token,\n",
    "    'fields': 'message,created_time',\n",
    "}\n",
    "\n",
    "response = requests.get(url, params=params)\n",
    "data = response.json()\n",
    "#print(data)\n",
    "# Populate the list with comments\n",
    "if 'data' in data:\n",
    "    for comment in data['data']:\n",
    "        from_info = comment.get('from', {})\n",
    "        comments_list.append({\n",
    "                                    'Message': comment['message'],\n",
    "                                    'Timestamp': comment['created_time'],\n",
    "                                    'Source' : 'Facebook',\n",
    "                              })\n",
    "for comment in comments_list:\n",
    "    print(comment)"
   ]
  },
  {
   "cell_type": "markdown",
   "metadata": {},
   "source": [
    "## (b) Instagram \n",
    "`Meta Graph API`"
   ]
  },
  {
   "cell_type": "code",
   "execution_count": 12,
   "metadata": {
    "execution": {
     "iopub.execute_input": "2023-11-16T16:47:34.935809Z",
     "iopub.status.busy": "2023-11-16T16:47:34.935809Z",
     "iopub.status.idle": "2023-11-16T16:47:35.523069Z",
     "shell.execute_reply": "2023-11-16T16:47:35.523069Z"
    }
   },
   "outputs": [
    {
     "name": "stdout",
     "output_type": "stream",
     "text": [
      "{'Message': 'its not good', 'Timestamp': '2023-11-16T16:46:33+0000', 'Source': 'Instagram'}\n",
      "{'Message': 'its beautiful', 'Timestamp': '2023-11-16T14:24:28+0000', 'Source': 'Instagram'}\n",
      "{'Message': 'nice pic', 'Timestamp': '2023-11-16T14:18:17+0000', 'Source': 'Instagram'}\n"
     ]
    }
   ],
   "source": [
    "#Scrapping Instagram comments\n",
    "user_access_token = INS_access\n",
    "url = f'https://graph.facebook.com/v18.0/{INS_post_id}/comments'\n",
    "params = {\n",
    "    'fields': 'text,timestamp',\n",
    "    'access_token': user_access_token,\n",
    "}\n",
    "\n",
    "response = requests.get(url, params=params)\n",
    "data = response.json()\n",
    "#print(data)\n",
    "# Populate the list with comments\n",
    "if 'data' in data:\n",
    "    for comment in data['data']:\n",
    "        from_info = comment.get('from', {})\n",
    "        comments_list.append({\n",
    "                                    'Message':comment['text'],\n",
    "                                    'Timestamp': comment['timestamp'],\n",
    "                                    'Source' : 'Instagram',\n",
    "                            })\n",
    "\n",
    "for comment in comments_list:\n",
    "    print(comment)"
   ]
  },
  {
   "cell_type": "markdown",
   "metadata": {},
   "source": [
    "## Sentiment Analysis"
   ]
  },
  {
   "cell_type": "markdown",
   "metadata": {},
   "source": [
    "## Roberta Pretrained Model"
   ]
  },
  {
   "cell_type": "code",
   "execution_count": 13,
   "metadata": {
    "execution": {
     "iopub.execute_input": "2023-11-16T16:47:35.525074Z",
     "iopub.status.busy": "2023-11-16T16:47:35.525074Z",
     "iopub.status.idle": "2023-11-16T16:47:35.528574Z",
     "shell.execute_reply": "2023-11-16T16:47:35.528574Z"
    }
   },
   "outputs": [],
   "source": [
    "#!pip install matplotlib"
   ]
  },
  {
   "cell_type": "code",
   "execution_count": 14,
   "metadata": {
    "execution": {
     "iopub.execute_input": "2023-11-16T16:47:35.530596Z",
     "iopub.status.busy": "2023-11-16T16:47:35.530596Z",
     "iopub.status.idle": "2023-11-16T16:47:35.533588Z",
     "shell.execute_reply": "2023-11-16T16:47:35.533588Z"
    }
   },
   "outputs": [],
   "source": [
    "#!pip install seaborn"
   ]
  },
  {
   "cell_type": "code",
   "execution_count": 15,
   "metadata": {
    "execution": {
     "iopub.execute_input": "2023-11-16T16:47:35.535906Z",
     "iopub.status.busy": "2023-11-16T16:47:35.535906Z",
     "iopub.status.idle": "2023-11-16T16:47:36.716505Z",
     "shell.execute_reply": "2023-11-16T16:47:36.716505Z"
    }
   },
   "outputs": [],
   "source": [
    "import pandas as pd\n",
    "import numpy as np\n",
    "import matplotlib.pyplot as plt\n",
    "import seaborn as sns"
   ]
  },
  {
   "cell_type": "code",
   "execution_count": 16,
   "metadata": {
    "execution": {
     "iopub.execute_input": "2023-11-16T16:47:36.719508Z",
     "iopub.status.busy": "2023-11-16T16:47:36.718508Z",
     "iopub.status.idle": "2023-11-16T16:47:36.721123Z",
     "shell.execute_reply": "2023-11-16T16:47:36.721123Z"
    }
   },
   "outputs": [],
   "source": [
    "#!pip install tqdm"
   ]
  },
  {
   "cell_type": "code",
   "execution_count": 17,
   "metadata": {
    "execution": {
     "iopub.execute_input": "2023-11-16T16:47:36.723131Z",
     "iopub.status.busy": "2023-11-16T16:47:36.723131Z",
     "iopub.status.idle": "2023-11-16T16:47:36.731738Z",
     "shell.execute_reply": "2023-11-16T16:47:36.731738Z"
    }
   },
   "outputs": [],
   "source": [
    "from tqdm.notebook import tqdm"
   ]
  },
  {
   "cell_type": "code",
   "execution_count": 18,
   "metadata": {
    "execution": {
     "iopub.execute_input": "2023-11-16T16:47:36.734740Z",
     "iopub.status.busy": "2023-11-16T16:47:36.733742Z",
     "iopub.status.idle": "2023-11-16T16:47:36.736451Z",
     "shell.execute_reply": "2023-11-16T16:47:36.736451Z"
    }
   },
   "outputs": [],
   "source": [
    "#pip install pywinpty"
   ]
  },
  {
   "cell_type": "code",
   "execution_count": 19,
   "metadata": {
    "execution": {
     "iopub.execute_input": "2023-11-16T16:47:36.738968Z",
     "iopub.status.busy": "2023-11-16T16:47:36.738968Z",
     "iopub.status.idle": "2023-11-16T16:47:36.741182Z",
     "shell.execute_reply": "2023-11-16T16:47:36.741182Z"
    }
   },
   "outputs": [],
   "source": [
    "#!pip install transformers"
   ]
  },
  {
   "cell_type": "code",
   "execution_count": 20,
   "metadata": {
    "execution": {
     "iopub.execute_input": "2023-11-16T16:47:36.743183Z",
     "iopub.status.busy": "2023-11-16T16:47:36.743183Z",
     "iopub.status.idle": "2023-11-16T16:47:36.745096Z",
     "shell.execute_reply": "2023-11-16T16:47:36.745096Z"
    }
   },
   "outputs": [],
   "source": [
    "#!pip install scipy"
   ]
  },
  {
   "cell_type": "code",
   "execution_count": 21,
   "metadata": {
    "execution": {
     "iopub.execute_input": "2023-11-16T16:47:36.747097Z",
     "iopub.status.busy": "2023-11-16T16:47:36.747097Z",
     "iopub.status.idle": "2023-11-16T16:47:39.090575Z",
     "shell.execute_reply": "2023-11-16T16:47:39.090575Z"
    }
   },
   "outputs": [],
   "source": [
    "from transformers import AutoTokenizer\n",
    "from transformers import AutoModelForSequenceClassification\n",
    "from scipy.special import softmax"
   ]
  },
  {
   "cell_type": "code",
   "execution_count": 22,
   "metadata": {
    "execution": {
     "iopub.execute_input": "2023-11-16T16:47:39.093575Z",
     "iopub.status.busy": "2023-11-16T16:47:39.093575Z",
     "iopub.status.idle": "2023-11-16T16:47:39.096524Z",
     "shell.execute_reply": "2023-11-16T16:47:39.096524Z"
    }
   },
   "outputs": [],
   "source": [
    "df = pd.DataFrame(comments_list, columns=['Message','Timestamp','Source'])"
   ]
  },
  {
   "cell_type": "code",
   "execution_count": 23,
   "metadata": {
    "execution": {
     "iopub.execute_input": "2023-11-16T16:47:39.098550Z",
     "iopub.status.busy": "2023-11-16T16:47:39.098550Z",
     "iopub.status.idle": "2023-11-16T16:47:39.107076Z",
     "shell.execute_reply": "2023-11-16T16:47:39.107076Z"
    }
   },
   "outputs": [
    {
     "name": "stdout",
     "output_type": "stream",
     "text": [
      "Message      object\n",
      "Timestamp    object\n",
      "Source       object\n",
      "dtype: object\n"
     ]
    },
    {
     "data": {
      "text/html": [
       "<div>\n",
       "<style scoped>\n",
       "    .dataframe tbody tr th:only-of-type {\n",
       "        vertical-align: middle;\n",
       "    }\n",
       "\n",
       "    .dataframe tbody tr th {\n",
       "        vertical-align: top;\n",
       "    }\n",
       "\n",
       "    .dataframe thead th {\n",
       "        text-align: right;\n",
       "    }\n",
       "</style>\n",
       "<table border=\"1\" class=\"dataframe\">\n",
       "  <thead>\n",
       "    <tr style=\"text-align: right;\">\n",
       "      <th></th>\n",
       "      <th>Message</th>\n",
       "      <th>Timestamp</th>\n",
       "      <th>Source</th>\n",
       "    </tr>\n",
       "  </thead>\n",
       "  <tbody>\n",
       "    <tr>\n",
       "      <th>0</th>\n",
       "      <td>its not good</td>\n",
       "      <td>2023-11-16T16:46:33+0000</td>\n",
       "      <td>Instagram</td>\n",
       "    </tr>\n",
       "    <tr>\n",
       "      <th>1</th>\n",
       "      <td>its beautiful</td>\n",
       "      <td>2023-11-16T14:24:28+0000</td>\n",
       "      <td>Instagram</td>\n",
       "    </tr>\n",
       "    <tr>\n",
       "      <th>2</th>\n",
       "      <td>nice pic</td>\n",
       "      <td>2023-11-16T14:18:17+0000</td>\n",
       "      <td>Instagram</td>\n",
       "    </tr>\n",
       "  </tbody>\n",
       "</table>\n",
       "</div>"
      ],
      "text/plain": [
       "         Message                 Timestamp     Source\n",
       "0   its not good  2023-11-16T16:46:33+0000  Instagram\n",
       "1  its beautiful  2023-11-16T14:24:28+0000  Instagram\n",
       "2       nice pic  2023-11-16T14:18:17+0000  Instagram"
      ]
     },
     "execution_count": 23,
     "metadata": {},
     "output_type": "execute_result"
    }
   ],
   "source": [
    "print(df.dtypes)\n",
    "df"
   ]
  },
  {
   "cell_type": "code",
   "execution_count": 24,
   "metadata": {
    "execution": {
     "iopub.execute_input": "2023-11-16T16:47:39.108589Z",
     "iopub.status.busy": "2023-11-16T16:47:39.108589Z",
     "iopub.status.idle": "2023-11-16T16:47:39.114637Z",
     "shell.execute_reply": "2023-11-16T16:47:39.114637Z"
    }
   },
   "outputs": [],
   "source": [
    "df['Timestamp'] = pd.to_datetime(df['Timestamp'])"
   ]
  },
  {
   "cell_type": "code",
   "execution_count": 25,
   "metadata": {
    "execution": {
     "iopub.execute_input": "2023-11-16T16:47:39.116666Z",
     "iopub.status.busy": "2023-11-16T16:47:39.116666Z",
     "iopub.status.idle": "2023-11-16T16:47:39.119646Z",
     "shell.execute_reply": "2023-11-16T16:47:39.119646Z"
    }
   },
   "outputs": [
    {
     "name": "stdout",
     "output_type": "stream",
     "text": [
      "Message                   object\n",
      "Timestamp    datetime64[ns, UTC]\n",
      "Source                    object\n",
      "dtype: object\n"
     ]
    }
   ],
   "source": [
    "print(df.dtypes)"
   ]
  },
  {
   "cell_type": "code",
   "execution_count": 26,
   "metadata": {
    "execution": {
     "iopub.execute_input": "2023-11-16T16:47:39.121648Z",
     "iopub.status.busy": "2023-11-16T16:47:39.121648Z",
     "iopub.status.idle": "2023-11-16T16:47:39.124670Z",
     "shell.execute_reply": "2023-11-16T16:47:39.124670Z"
    }
   },
   "outputs": [],
   "source": [
    "df.sort_values(by='Timestamp', inplace = True)"
   ]
  },
  {
   "cell_type": "code",
   "execution_count": 27,
   "metadata": {
    "execution": {
     "iopub.execute_input": "2023-11-16T16:47:39.126688Z",
     "iopub.status.busy": "2023-11-16T16:47:39.126688Z",
     "iopub.status.idle": "2023-11-16T16:47:39.131960Z",
     "shell.execute_reply": "2023-11-16T16:47:39.131960Z"
    }
   },
   "outputs": [
    {
     "data": {
      "text/html": [
       "<div>\n",
       "<style scoped>\n",
       "    .dataframe tbody tr th:only-of-type {\n",
       "        vertical-align: middle;\n",
       "    }\n",
       "\n",
       "    .dataframe tbody tr th {\n",
       "        vertical-align: top;\n",
       "    }\n",
       "\n",
       "    .dataframe thead th {\n",
       "        text-align: right;\n",
       "    }\n",
       "</style>\n",
       "<table border=\"1\" class=\"dataframe\">\n",
       "  <thead>\n",
       "    <tr style=\"text-align: right;\">\n",
       "      <th></th>\n",
       "      <th>Message</th>\n",
       "      <th>Timestamp</th>\n",
       "      <th>Source</th>\n",
       "    </tr>\n",
       "  </thead>\n",
       "  <tbody>\n",
       "    <tr>\n",
       "      <th>2</th>\n",
       "      <td>nice pic</td>\n",
       "      <td>2023-11-16 14:18:17+00:00</td>\n",
       "      <td>Instagram</td>\n",
       "    </tr>\n",
       "    <tr>\n",
       "      <th>1</th>\n",
       "      <td>its beautiful</td>\n",
       "      <td>2023-11-16 14:24:28+00:00</td>\n",
       "      <td>Instagram</td>\n",
       "    </tr>\n",
       "    <tr>\n",
       "      <th>0</th>\n",
       "      <td>its not good</td>\n",
       "      <td>2023-11-16 16:46:33+00:00</td>\n",
       "      <td>Instagram</td>\n",
       "    </tr>\n",
       "  </tbody>\n",
       "</table>\n",
       "</div>"
      ],
      "text/plain": [
       "         Message                 Timestamp     Source\n",
       "2       nice pic 2023-11-16 14:18:17+00:00  Instagram\n",
       "1  its beautiful 2023-11-16 14:24:28+00:00  Instagram\n",
       "0   its not good 2023-11-16 16:46:33+00:00  Instagram"
      ]
     },
     "execution_count": 27,
     "metadata": {},
     "output_type": "execute_result"
    }
   ],
   "source": [
    "df"
   ]
  },
  {
   "cell_type": "code",
   "execution_count": 28,
   "metadata": {
    "execution": {
     "iopub.execute_input": "2023-11-16T16:47:39.135962Z",
     "iopub.status.busy": "2023-11-16T16:47:39.134964Z",
     "iopub.status.idle": "2023-11-16T16:47:43.077268Z",
     "shell.execute_reply": "2023-11-16T16:47:43.077268Z"
    }
   },
   "outputs": [],
   "source": [
    "MODEL = f\"cardiffnlp/twitter-roberta-base-sentiment\"\n",
    "tokenizer = AutoTokenizer.from_pretrained(MODEL)\n",
    "model = AutoModelForSequenceClassification.from_pretrained(MODEL)"
   ]
  },
  {
   "cell_type": "code",
   "execution_count": 29,
   "metadata": {
    "execution": {
     "iopub.execute_input": "2023-11-16T16:47:43.079707Z",
     "iopub.status.busy": "2023-11-16T16:47:43.079707Z",
     "iopub.status.idle": "2023-11-16T16:47:43.083319Z",
     "shell.execute_reply": "2023-11-16T16:47:43.083319Z"
    }
   },
   "outputs": [],
   "source": [
    "def polarity_scores_roberta(example):\n",
    "    encoded_text = tokenizer(example, return_tensors='pt')\n",
    "    output = model(**encoded_text)\n",
    "    scores = output[0][0].detach().numpy()\n",
    "    scores = softmax(scores)\n",
    "    scores_dict = {\n",
    "        'roberta_neg' : scores[0],\n",
    "        'roberta_neu' : scores[1],\n",
    "        'roberta_pos' : scores[2]\n",
    "    }\n",
    "    return scores_dict"
   ]
  },
  {
   "cell_type": "code",
   "execution_count": 30,
   "metadata": {
    "execution": {
     "iopub.execute_input": "2023-11-16T16:47:43.085320Z",
     "iopub.status.busy": "2023-11-16T16:47:43.085320Z",
     "iopub.status.idle": "2023-11-16T16:47:43.087964Z",
     "shell.execute_reply": "2023-11-16T16:47:43.087964Z"
    }
   },
   "outputs": [],
   "source": [
    "#!pip install --upgrade jupyter"
   ]
  },
  {
   "cell_type": "code",
   "execution_count": 31,
   "metadata": {
    "execution": {
     "iopub.execute_input": "2023-11-16T16:47:43.090463Z",
     "iopub.status.busy": "2023-11-16T16:47:43.089465Z",
     "iopub.status.idle": "2023-11-16T16:47:43.092538Z",
     "shell.execute_reply": "2023-11-16T16:47:43.092538Z"
    }
   },
   "outputs": [],
   "source": [
    "#!pip install --upgrade ipywidgets"
   ]
  },
  {
   "cell_type": "code",
   "execution_count": 32,
   "metadata": {
    "execution": {
     "iopub.execute_input": "2023-11-16T16:47:43.094538Z",
     "iopub.status.busy": "2023-11-16T16:47:43.094538Z",
     "iopub.status.idle": "2023-11-16T16:47:43.557547Z",
     "shell.execute_reply": "2023-11-16T16:47:43.557547Z"
    }
   },
   "outputs": [
    {
     "data": {
      "application/vnd.jupyter.widget-view+json": {
       "model_id": "2cf3638f74c945cd98310b2b8953607c",
       "version_major": 2,
       "version_minor": 0
      },
      "text/plain": [
       "  0%|          | 0/3 [00:00<?, ?it/s]"
      ]
     },
     "metadata": {},
     "output_type": "display_data"
    },
    {
     "name": "stdout",
     "output_type": "stream",
     "text": [
      "Message                       nice pic\n",
      "Timestamp    2023-11-16 14:18:17+00:00\n",
      "Source                       Instagram\n",
      "Name: 2, dtype: object\n",
      "{'roberta_neg': 0.0043418566, 'roberta_neu': 0.055478096, 'roberta_pos': 0.94018006}\n",
      "Message                  its beautiful\n",
      "Timestamp    2023-11-16 14:24:28+00:00\n",
      "Source                       Instagram\n",
      "Name: 1, dtype: object\n",
      "{'roberta_neg': 0.0060792877, 'roberta_neu': 0.04760788, 'roberta_pos': 0.94631284}\n",
      "Message                   its not good\n",
      "Timestamp    2023-11-16 16:46:33+00:00\n",
      "Source                       Instagram\n",
      "Name: 0, dtype: object\n",
      "{'roberta_neg': 0.94172156, 'roberta_neu': 0.049522933, 'roberta_pos': 0.008755575}\n"
     ]
    }
   ],
   "source": [
    "base : float\n",
    "base = 10.00\n",
    "\n",
    "res = {\n",
    "    'pos' : [],\n",
    "    'neg' : []\n",
    "}\n",
    "for i,row in tqdm(df.iterrows(), total=len(df)):\n",
    "    try:\n",
    "        print(row);\n",
    "        text = row['Message']\n",
    "        #myid = row['Id']\n",
    "        roberta_result = polarity_scores_roberta(text)\n",
    "        print(roberta_result)\n",
    "        if roberta_result['roberta_neg']>roberta_result['roberta_neu'] and roberta_result['roberta_neg']>roberta_result['roberta_pos'] :\n",
    "            base-=roberta_result['roberta_neg']\n",
    "            res['neg'].append({\n",
    "                'Comment' : row['Message'],\n",
    "                'Source' :row['Source']\n",
    "            })\n",
    "        if roberta_result['roberta_pos']>roberta_result['roberta_neu'] and roberta_result['roberta_pos']>roberta_result['roberta_neg'] :\n",
    "            base+=roberta_result['roberta_pos']\n",
    "            res['pos'].append({\n",
    "                'Comment' : row['Message'],\n",
    "                'Source' :row['Source']\n",
    "            })\n",
    "        #print(base);\n",
    "    except RuntimeError:\n",
    "        print(f'Broke for id {i}')"
   ]
  },
  {
   "cell_type": "code",
   "execution_count": 33,
   "metadata": {
    "execution": {
     "iopub.execute_input": "2023-11-16T16:47:43.561557Z",
     "iopub.status.busy": "2023-11-16T16:47:43.561557Z",
     "iopub.status.idle": "2023-11-16T16:47:43.564824Z",
     "shell.execute_reply": "2023-11-16T16:47:43.564824Z"
    }
   },
   "outputs": [
    {
     "name": "stdout",
     "output_type": "stream",
     "text": [
      "10.944771349430084\n"
     ]
    }
   ],
   "source": [
    "print(base)"
   ]
  },
  {
   "cell_type": "markdown",
   "metadata": {},
   "source": [
    "# Update Database"
   ]
  },
  {
   "cell_type": "code",
   "execution_count": 34,
   "metadata": {
    "execution": {
     "iopub.execute_input": "2023-11-16T16:47:43.567823Z",
     "iopub.status.busy": "2023-11-16T16:47:43.566826Z",
     "iopub.status.idle": "2023-11-16T16:47:43.735168Z",
     "shell.execute_reply": "2023-11-16T16:47:43.735168Z"
    }
   },
   "outputs": [],
   "source": [
    "q = f\"update companydetails set Score = {base} where CompanyName = '{company}'\"\n",
    "stm.execute(q)\n",
    "con.commit()"
   ]
  },
  {
   "cell_type": "markdown",
   "metadata": {},
   "source": [
    "# Sending Email"
   ]
  },
  {
   "cell_type": "code",
   "execution_count": 35,
   "metadata": {
    "execution": {
     "iopub.execute_input": "2023-11-16T16:47:43.737167Z",
     "iopub.status.busy": "2023-11-16T16:47:43.737167Z",
     "iopub.status.idle": "2023-11-16T16:47:43.750368Z",
     "shell.execute_reply": "2023-11-16T16:47:43.750368Z"
    }
   },
   "outputs": [],
   "source": [
    "import smtplib\n",
    "from email.mime.text import MIMEText\n",
    "from email.mime.multipart import MIMEMultipart"
   ]
  },
  {
   "cell_type": "code",
   "execution_count": 36,
   "metadata": {
    "execution": {
     "iopub.execute_input": "2023-11-16T16:47:43.752367Z",
     "iopub.status.busy": "2023-11-16T16:47:43.752367Z",
     "iopub.status.idle": "2023-11-16T16:47:43.756009Z",
     "shell.execute_reply": "2023-11-16T16:47:43.756009Z"
    }
   },
   "outputs": [],
   "source": [
    "def send_email(subject, body, to_email, smtp_server, smtp_port, smtp_username, smtp_password):\n",
    "    # Create the MIME object\n",
    "    msg = MIMEMultipart()\n",
    "    msg['From'] = smtp_username\n",
    "    msg['To'] = to_email\n",
    "    msg['Subject'] = subject\n",
    "\n",
    "    msg.attach(MIMEText(body, 'plain'))\n",
    "\n",
    "    server = smtplib.SMTP(smtp_server, smtp_port)\n",
    "    server.starttls()\n",
    "    server.login(smtp_username, smtp_password)\n",
    "\n",
    "    server.sendmail(smtp_username, to_email, msg.as_string())\n",
    "    server.quit()"
   ]
  },
  {
   "cell_type": "code",
   "execution_count": 37,
   "metadata": {
    "execution": {
     "iopub.execute_input": "2023-11-16T16:47:43.758554Z",
     "iopub.status.busy": "2023-11-16T16:47:43.757047Z",
     "iopub.status.idle": "2023-11-16T16:47:43.761259Z",
     "shell.execute_reply": "2023-11-16T16:47:43.761259Z"
    }
   },
   "outputs": [],
   "source": [
    "subject = \"Change In Score Detected\"\n",
    "body = f\"New Score : {base} \\nDelta change : {base-prev} \\nLast 5 negitive comments:{res['neg'][-5:]} \\nLast 5 positive comments:{res['pos'][-5:]}\""
   ]
  },
  {
   "cell_type": "code",
   "execution_count": 38,
   "metadata": {
    "execution": {
     "iopub.execute_input": "2023-11-16T16:47:43.763262Z",
     "iopub.status.busy": "2023-11-16T16:47:43.763262Z",
     "iopub.status.idle": "2023-11-16T16:47:43.765889Z",
     "shell.execute_reply": "2023-11-16T16:47:43.765889Z"
    }
   },
   "outputs": [],
   "source": [
    "smtp_server = \"smtp.gmail.com\"\n",
    "smtp_port = 587 "
   ]
  },
  {
   "cell_type": "code",
   "execution_count": 39,
   "metadata": {
    "execution": {
     "iopub.execute_input": "2023-11-16T16:47:43.767891Z",
     "iopub.status.busy": "2023-11-16T16:47:43.767891Z",
     "iopub.status.idle": "2023-11-16T16:47:47.856208Z",
     "shell.execute_reply": "2023-11-16T16:47:47.855197Z"
    }
   },
   "outputs": [
    {
     "name": "stdout",
     "output_type": "stream",
     "text": [
      "Mail send\n"
     ]
    }
   ],
   "source": [
    "if(prev!=base) :\n",
    "    send_email(subject=subject,\n",
    "            body=body,\n",
    "            to_email=Reciver_Mail,\n",
    "            smtp_server=smtp_server,\n",
    "            smtp_port=smtp_port,\n",
    "            smtp_username=config.Sender_mail,\n",
    "            smtp_password=config.AppPassword)\n",
    "    print(\"Mail send\")"
   ]
  },
  {
   "cell_type": "code",
   "execution_count": 40,
   "metadata": {
    "execution": {
     "iopub.execute_input": "2023-11-16T16:47:47.858743Z",
     "iopub.status.busy": "2023-11-16T16:47:47.857236Z",
     "iopub.status.idle": "2023-11-16T16:47:47.861976Z",
     "shell.execute_reply": "2023-11-16T16:47:47.861976Z"
    }
   },
   "outputs": [],
   "source": [
    "stm.close()\n",
    "con.close()"
   ]
  },
  {
   "cell_type": "code",
   "execution_count": 41,
   "metadata": {
    "execution": {
     "iopub.execute_input": "2023-11-16T16:47:47.864305Z",
     "iopub.status.busy": "2023-11-16T16:47:47.864305Z",
     "iopub.status.idle": "2023-11-16T16:47:47.867226Z",
     "shell.execute_reply": "2023-11-16T16:47:47.867226Z"
    }
   },
   "outputs": [],
   "source": [
    "text = f\"{prev} {base}\""
   ]
  },
  {
   "cell_type": "code",
   "execution_count": 42,
   "metadata": {
    "execution": {
     "iopub.execute_input": "2023-11-16T16:47:47.869767Z",
     "iopub.status.busy": "2023-11-16T16:47:47.868767Z",
     "iopub.status.idle": "2023-11-16T16:47:47.872143Z",
     "shell.execute_reply": "2023-11-16T16:47:47.872143Z"
    }
   },
   "outputs": [],
   "source": [
    "with open('score.txt','w') as file:\n",
    "    file.write(text)"
   ]
  }
 ],
 "metadata": {
  "kernelspec": {
   "display_name": "base",
   "language": "python",
   "name": "python3"
  },
  "language_info": {
   "codemirror_mode": {
    "name": "ipython",
    "version": 3
   },
   "file_extension": ".py",
   "mimetype": "text/x-python",
   "name": "python",
   "nbconvert_exporter": "python",
   "pygments_lexer": "ipython3",
   "version": "3.11.6"
  },
  "widgets": {
   "application/vnd.jupyter.widget-state+json": {
    "state": {
     "0552f3c7a20f4f9e9dcc3f78f0897729": {
      "model_module": "@jupyter-widgets/controls",
      "model_module_version": "2.0.0",
      "model_name": "HTMLModel",
      "state": {
       "_dom_classes": [],
       "_model_module": "@jupyter-widgets/controls",
       "_model_module_version": "2.0.0",
       "_model_name": "HTMLModel",
       "_view_count": null,
       "_view_module": "@jupyter-widgets/controls",
       "_view_module_version": "2.0.0",
       "_view_name": "HTMLView",
       "description": "",
       "description_allow_html": false,
       "layout": "IPY_MODEL_a32ca13da35a4f37a103889a6f70a845",
       "placeholder": "​",
       "style": "IPY_MODEL_fb80846070664abcb5c74cdce656b54d",
       "tabbable": null,
       "tooltip": null,
       "value": "100%"
      }
     },
     "14cd72d7700445c18a6c76f267c84dfc": {
      "model_module": "@jupyter-widgets/controls",
      "model_module_version": "2.0.0",
      "model_name": "FloatProgressModel",
      "state": {
       "_dom_classes": [],
       "_model_module": "@jupyter-widgets/controls",
       "_model_module_version": "2.0.0",
       "_model_name": "FloatProgressModel",
       "_view_count": null,
       "_view_module": "@jupyter-widgets/controls",
       "_view_module_version": "2.0.0",
       "_view_name": "ProgressView",
       "bar_style": "success",
       "description": "",
       "description_allow_html": false,
       "layout": "IPY_MODEL_412b9215e83940499f130de7e8c3b381",
       "max": 3.0,
       "min": 0.0,
       "orientation": "horizontal",
       "style": "IPY_MODEL_3cf7767ebcc7488a9b63aa7e202e90a0",
       "tabbable": null,
       "tooltip": null,
       "value": 3.0
      }
     },
     "1b12caa5ce974621acc4b8657ff9f2ae": {
      "model_module": "@jupyter-widgets/controls",
      "model_module_version": "2.0.0",
      "model_name": "HTMLStyleModel",
      "state": {
       "_model_module": "@jupyter-widgets/controls",
       "_model_module_version": "2.0.0",
       "_model_name": "HTMLStyleModel",
       "_view_count": null,
       "_view_module": "@jupyter-widgets/base",
       "_view_module_version": "2.0.0",
       "_view_name": "StyleView",
       "background": null,
       "description_width": "",
       "font_size": null,
       "text_color": null
      }
     },
     "2cf3638f74c945cd98310b2b8953607c": {
      "model_module": "@jupyter-widgets/controls",
      "model_module_version": "2.0.0",
      "model_name": "HBoxModel",
      "state": {
       "_dom_classes": [],
       "_model_module": "@jupyter-widgets/controls",
       "_model_module_version": "2.0.0",
       "_model_name": "HBoxModel",
       "_view_count": null,
       "_view_module": "@jupyter-widgets/controls",
       "_view_module_version": "2.0.0",
       "_view_name": "HBoxView",
       "box_style": "",
       "children": [
        "IPY_MODEL_0552f3c7a20f4f9e9dcc3f78f0897729",
        "IPY_MODEL_14cd72d7700445c18a6c76f267c84dfc",
        "IPY_MODEL_64b823385ad049c99693935745916443"
       ],
       "layout": "IPY_MODEL_936182ce5cbb4e8fac746dc249e0bc54",
       "tabbable": null,
       "tooltip": null
      }
     },
     "3cf7767ebcc7488a9b63aa7e202e90a0": {
      "model_module": "@jupyter-widgets/controls",
      "model_module_version": "2.0.0",
      "model_name": "ProgressStyleModel",
      "state": {
       "_model_module": "@jupyter-widgets/controls",
       "_model_module_version": "2.0.0",
       "_model_name": "ProgressStyleModel",
       "_view_count": null,
       "_view_module": "@jupyter-widgets/base",
       "_view_module_version": "2.0.0",
       "_view_name": "StyleView",
       "bar_color": null,
       "description_width": ""
      }
     },
     "412b9215e83940499f130de7e8c3b381": {
      "model_module": "@jupyter-widgets/base",
      "model_module_version": "2.0.0",
      "model_name": "LayoutModel",
      "state": {
       "_model_module": "@jupyter-widgets/base",
       "_model_module_version": "2.0.0",
       "_model_name": "LayoutModel",
       "_view_count": null,
       "_view_module": "@jupyter-widgets/base",
       "_view_module_version": "2.0.0",
       "_view_name": "LayoutView",
       "align_content": null,
       "align_items": null,
       "align_self": null,
       "border_bottom": null,
       "border_left": null,
       "border_right": null,
       "border_top": null,
       "bottom": null,
       "display": null,
       "flex": null,
       "flex_flow": null,
       "grid_area": null,
       "grid_auto_columns": null,
       "grid_auto_flow": null,
       "grid_auto_rows": null,
       "grid_column": null,
       "grid_gap": null,
       "grid_row": null,
       "grid_template_areas": null,
       "grid_template_columns": null,
       "grid_template_rows": null,
       "height": null,
       "justify_content": null,
       "justify_items": null,
       "left": null,
       "margin": null,
       "max_height": null,
       "max_width": null,
       "min_height": null,
       "min_width": null,
       "object_fit": null,
       "object_position": null,
       "order": null,
       "overflow": null,
       "padding": null,
       "right": null,
       "top": null,
       "visibility": null,
       "width": null
      }
     },
     "64b823385ad049c99693935745916443": {
      "model_module": "@jupyter-widgets/controls",
      "model_module_version": "2.0.0",
      "model_name": "HTMLModel",
      "state": {
       "_dom_classes": [],
       "_model_module": "@jupyter-widgets/controls",
       "_model_module_version": "2.0.0",
       "_model_name": "HTMLModel",
       "_view_count": null,
       "_view_module": "@jupyter-widgets/controls",
       "_view_module_version": "2.0.0",
       "_view_name": "HTMLView",
       "description": "",
       "description_allow_html": false,
       "layout": "IPY_MODEL_a07b655502f54acd99680b7a519013d3",
       "placeholder": "​",
       "style": "IPY_MODEL_1b12caa5ce974621acc4b8657ff9f2ae",
       "tabbable": null,
       "tooltip": null,
       "value": " 3/3 [00:00&lt;00:00,  7.65it/s]"
      }
     },
     "936182ce5cbb4e8fac746dc249e0bc54": {
      "model_module": "@jupyter-widgets/base",
      "model_module_version": "2.0.0",
      "model_name": "LayoutModel",
      "state": {
       "_model_module": "@jupyter-widgets/base",
       "_model_module_version": "2.0.0",
       "_model_name": "LayoutModel",
       "_view_count": null,
       "_view_module": "@jupyter-widgets/base",
       "_view_module_version": "2.0.0",
       "_view_name": "LayoutView",
       "align_content": null,
       "align_items": null,
       "align_self": null,
       "border_bottom": null,
       "border_left": null,
       "border_right": null,
       "border_top": null,
       "bottom": null,
       "display": null,
       "flex": null,
       "flex_flow": null,
       "grid_area": null,
       "grid_auto_columns": null,
       "grid_auto_flow": null,
       "grid_auto_rows": null,
       "grid_column": null,
       "grid_gap": null,
       "grid_row": null,
       "grid_template_areas": null,
       "grid_template_columns": null,
       "grid_template_rows": null,
       "height": null,
       "justify_content": null,
       "justify_items": null,
       "left": null,
       "margin": null,
       "max_height": null,
       "max_width": null,
       "min_height": null,
       "min_width": null,
       "object_fit": null,
       "object_position": null,
       "order": null,
       "overflow": null,
       "padding": null,
       "right": null,
       "top": null,
       "visibility": null,
       "width": null
      }
     },
     "a07b655502f54acd99680b7a519013d3": {
      "model_module": "@jupyter-widgets/base",
      "model_module_version": "2.0.0",
      "model_name": "LayoutModel",
      "state": {
       "_model_module": "@jupyter-widgets/base",
       "_model_module_version": "2.0.0",
       "_model_name": "LayoutModel",
       "_view_count": null,
       "_view_module": "@jupyter-widgets/base",
       "_view_module_version": "2.0.0",
       "_view_name": "LayoutView",
       "align_content": null,
       "align_items": null,
       "align_self": null,
       "border_bottom": null,
       "border_left": null,
       "border_right": null,
       "border_top": null,
       "bottom": null,
       "display": null,
       "flex": null,
       "flex_flow": null,
       "grid_area": null,
       "grid_auto_columns": null,
       "grid_auto_flow": null,
       "grid_auto_rows": null,
       "grid_column": null,
       "grid_gap": null,
       "grid_row": null,
       "grid_template_areas": null,
       "grid_template_columns": null,
       "grid_template_rows": null,
       "height": null,
       "justify_content": null,
       "justify_items": null,
       "left": null,
       "margin": null,
       "max_height": null,
       "max_width": null,
       "min_height": null,
       "min_width": null,
       "object_fit": null,
       "object_position": null,
       "order": null,
       "overflow": null,
       "padding": null,
       "right": null,
       "top": null,
       "visibility": null,
       "width": null
      }
     },
     "a32ca13da35a4f37a103889a6f70a845": {
      "model_module": "@jupyter-widgets/base",
      "model_module_version": "2.0.0",
      "model_name": "LayoutModel",
      "state": {
       "_model_module": "@jupyter-widgets/base",
       "_model_module_version": "2.0.0",
       "_model_name": "LayoutModel",
       "_view_count": null,
       "_view_module": "@jupyter-widgets/base",
       "_view_module_version": "2.0.0",
       "_view_name": "LayoutView",
       "align_content": null,
       "align_items": null,
       "align_self": null,
       "border_bottom": null,
       "border_left": null,
       "border_right": null,
       "border_top": null,
       "bottom": null,
       "display": null,
       "flex": null,
       "flex_flow": null,
       "grid_area": null,
       "grid_auto_columns": null,
       "grid_auto_flow": null,
       "grid_auto_rows": null,
       "grid_column": null,
       "grid_gap": null,
       "grid_row": null,
       "grid_template_areas": null,
       "grid_template_columns": null,
       "grid_template_rows": null,
       "height": null,
       "justify_content": null,
       "justify_items": null,
       "left": null,
       "margin": null,
       "max_height": null,
       "max_width": null,
       "min_height": null,
       "min_width": null,
       "object_fit": null,
       "object_position": null,
       "order": null,
       "overflow": null,
       "padding": null,
       "right": null,
       "top": null,
       "visibility": null,
       "width": null
      }
     },
     "fb80846070664abcb5c74cdce656b54d": {
      "model_module": "@jupyter-widgets/controls",
      "model_module_version": "2.0.0",
      "model_name": "HTMLStyleModel",
      "state": {
       "_model_module": "@jupyter-widgets/controls",
       "_model_module_version": "2.0.0",
       "_model_name": "HTMLStyleModel",
       "_view_count": null,
       "_view_module": "@jupyter-widgets/base",
       "_view_module_version": "2.0.0",
       "_view_name": "StyleView",
       "background": null,
       "description_width": "",
       "font_size": null,
       "text_color": null
      }
     }
    },
    "version_major": 2,
    "version_minor": 0
   }
  }
 },
 "nbformat": 4,
 "nbformat_minor": 2
}
