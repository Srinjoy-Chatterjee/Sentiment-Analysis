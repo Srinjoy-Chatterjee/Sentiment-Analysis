{
 "cells": [
  {
   "cell_type": "markdown",
   "metadata": {},
   "source": [
    "# Web Scrapping with API"
   ]
  },
  {
   "cell_type": "code",
   "execution_count": 25,
   "metadata": {},
   "outputs": [],
   "source": [
    "import config\n",
    "import requests"
   ]
  },
  {
   "cell_type": "code",
   "execution_count": 26,
   "metadata": {},
   "outputs": [],
   "source": [
    "# Create a list to store comment dictionaries\n",
    "comments_list = []"
   ]
  },
  {
   "cell_type": "code",
   "execution_count": 27,
   "metadata": {},
   "outputs": [],
   "source": [
    "company = \"\"\n",
    "with open(\"company.txt\",\"r\") as file:\n",
    "    company = file.read()"
   ]
  },
  {
   "cell_type": "markdown",
   "metadata": {},
   "source": [
    "# Access Database"
   ]
  },
  {
   "cell_type": "code",
   "execution_count": 4,
   "metadata": {},
   "outputs": [
    {
     "name": "stdout",
     "output_type": "stream",
     "text": [
      "Requirement already satisfied: pymysql in g:\\software\\python\\lib\\site-packages (1.1.0)\n"
     ]
    }
   ],
   "source": [
    "#!pip install pymysql"
   ]
  },
  {
   "cell_type": "code",
   "execution_count": 28,
   "metadata": {},
   "outputs": [],
   "source": [
    "import connection"
   ]
  },
  {
   "cell_type": "code",
   "execution_count": 29,
   "metadata": {},
   "outputs": [],
   "source": [
    "con = connection.connect()\n",
    "stm = con.cursor()"
   ]
  },
  {
   "cell_type": "code",
   "execution_count": 30,
   "metadata": {},
   "outputs": [
    {
     "data": {
      "text/plain": [
       "1"
      ]
     },
     "execution_count": 30,
     "metadata": {},
     "output_type": "execute_result"
    }
   ],
   "source": [
    "q = f\"select * from companydetails where CompanyName='{company}'\"\n",
    "stm.execute(q)"
   ]
  },
  {
   "cell_type": "code",
   "execution_count": 31,
   "metadata": {},
   "outputs": [],
   "source": [
    "rows = stm.fetchall()"
   ]
  },
  {
   "cell_type": "code",
   "execution_count": 32,
   "metadata": {},
   "outputs": [
    {
     "data": {
      "text/plain": [
       "(('Company 1',\n",
       "  'companytest889@gmail.com',\n",
       "  '61553129864051',\n",
       "  '122106163322104328',\n",
       "  '17991588476185435',\n",
       "  10.279075682163239),)"
      ]
     },
     "execution_count": 32,
     "metadata": {},
     "output_type": "execute_result"
    }
   ],
   "source": [
    "rows"
   ]
  },
  {
   "cell_type": "code",
   "execution_count": 33,
   "metadata": {},
   "outputs": [],
   "source": [
    "Reciver_Mail = rows[0][1]\n",
    "page_id = rows[0][2]\n",
    "FB_post_id = rows[0][3]\n",
    "INS_post_id = rows[0][4]\n",
    "FB_access = rows[0][5]\n",
    "INS_access = rows[0][6]\n",
    "prev = rows[0][7]"
   ]
  },
  {
   "cell_type": "markdown",
   "metadata": {},
   "source": [
    "## (a) Facebook \n",
    "`Meta Graph API`"
   ]
  },
  {
   "cell_type": "code",
   "execution_count": 34,
   "metadata": {},
   "outputs": [
    {
     "name": "stdout",
     "output_type": "stream",
     "text": [
      "{'Message': 'positive', 'Timestamp': '2023-11-12T07:58:48+0000', 'Source': 'Facebook'}\n",
      "{'Message': 'helo', 'Timestamp': '2023-11-12T06:44:30+0000', 'Source': 'Facebook'}\n",
      "{'Message': 'ok', 'Timestamp': '2023-11-12T06:56:52+0000', 'Source': 'Facebook'}\n",
      "{'Message': 'hey', 'Timestamp': '2023-11-12T07:06:08+0000', 'Source': 'Facebook'}\n",
      "{'Message': \"While I appreciate the effort put into the write ups, I believe there's room for improvements. The content is interesting, but the organisation could be more cohesive.\", 'Timestamp': '2023-11-15T22:37:00+0000', 'Source': 'Facebook'}\n",
      "{'Message': 'good', 'Timestamp': '2023-11-16T07:57:10+0000', 'Source': 'Facebook'}\n",
      "{'Message': \"Such a worst write ups I've ever seen in my whole career of B.Tech.\", 'Timestamp': '2023-11-15T22:39:40+0000', 'Source': 'Facebook'}\n"
     ]
    }
   ],
   "source": [
    "#Scrapping Facebook Comments\n",
    "user_access_token = FB_access\n",
    "\n",
    "url = f'https://graph.facebook.com/v18.0/{page_id}_{FB_post_id}/comments'\n",
    "\n",
    "params = {\n",
    "    'access_token': user_access_token,\n",
    "    'fields': 'message,created_time',\n",
    "}\n",
    "\n",
    "response = requests.get(url, params=params)\n",
    "data = response.json()\n",
    "#print(data)\n",
    "# Populate the list with comments\n",
    "if 'data' in data:\n",
    "    for comment in data['data']:\n",
    "        from_info = comment.get('from', {})\n",
    "        comments_list.append({\n",
    "                                    'Message': comment['message'],\n",
    "                                    'Timestamp': comment['created_time'],\n",
    "                                    'Source' : 'Facebook',\n",
    "                              })\n",
    "for comment in comments_list:\n",
    "    print(comment)"
   ]
  },
  {
   "cell_type": "markdown",
   "metadata": {},
   "source": [
    "## (b) Instagram \n",
    "`Meta Graph API`"
   ]
  },
  {
   "cell_type": "code",
   "execution_count": 35,
   "metadata": {},
   "outputs": [
    {
     "name": "stdout",
     "output_type": "stream",
     "text": [
      "{'Message': 'positive', 'Timestamp': '2023-11-12T07:58:48+0000', 'Source': 'Facebook'}\n",
      "{'Message': 'helo', 'Timestamp': '2023-11-12T06:44:30+0000', 'Source': 'Facebook'}\n",
      "{'Message': 'ok', 'Timestamp': '2023-11-12T06:56:52+0000', 'Source': 'Facebook'}\n",
      "{'Message': 'hey', 'Timestamp': '2023-11-12T07:06:08+0000', 'Source': 'Facebook'}\n",
      "{'Message': \"While I appreciate the effort put into the write ups, I believe there's room for improvements. The content is interesting, but the organisation could be more cohesive.\", 'Timestamp': '2023-11-15T22:37:00+0000', 'Source': 'Facebook'}\n",
      "{'Message': 'good', 'Timestamp': '2023-11-16T07:57:10+0000', 'Source': 'Facebook'}\n",
      "{'Message': \"Such a worst write ups I've ever seen in my whole career of B.Tech.\", 'Timestamp': '2023-11-15T22:39:40+0000', 'Source': 'Facebook'}\n",
      "{'Message': 'not good', 'Timestamp': '2023-11-16T07:59:55+0000', 'Source': 'Instagram'}\n",
      "{'Message': 'This picture is truly captivating! The composition is spot-on, drawing the river and creating a wonderful balance. The colors are so vibrant which adds a delightful touch.', 'Timestamp': '2023-11-15T22:30:25+0000', 'Source': 'Instagram'}\n",
      "{'Message': 'joy mohunbagan', 'Timestamp': '2023-11-13T14:10:08+0000', 'Source': 'Instagram'}\n",
      "{'Message': 'pic is nice', 'Timestamp': '2023-11-13T14:09:01+0000', 'Source': 'Instagram'}\n",
      "{'Message': 'it is not good', 'Timestamp': '2023-11-13T13:54:07+0000', 'Source': 'Instagram'}\n",
      "{'Message': 'its is worst', 'Timestamp': '2023-11-13T13:53:24+0000', 'Source': 'Instagram'}\n",
      "{'Message': 'hi', 'Timestamp': '2023-11-12T10:53:33+0000', 'Source': 'Instagram'}\n",
      "{'Message': 'Hemlo', 'Timestamp': '2023-11-12T09:52:54+0000', 'Source': 'Instagram'}\n"
     ]
    }
   ],
   "source": [
    "#Scrapping Instagram comments\n",
    "user_access_token = INS_access\n",
    "url = f'https://graph.facebook.com/v18.0/{INS_post_id}/comments'\n",
    "params = {\n",
    "    'fields': 'text,timestamp',\n",
    "    'access_token': user_access_token,\n",
    "}\n",
    "\n",
    "response = requests.get(url, params=params)\n",
    "data = response.json()\n",
    "#print(data)\n",
    "# Populate the list with comments\n",
    "if 'data' in data:\n",
    "    for comment in data['data']:\n",
    "        from_info = comment.get('from', {})\n",
    "        comments_list.append({\n",
    "                                    'Message':comment['text'],\n",
    "                                    'Timestamp': comment['timestamp'],\n",
    "                                    'Source' : 'Instagram',\n",
    "                            })\n",
    "\n",
    "for comment in comments_list:\n",
    "    print(comment)"
   ]
  },
  {
   "cell_type": "markdown",
   "metadata": {},
   "source": [
    "## Sentiment Analysis"
   ]
  },
  {
   "cell_type": "markdown",
   "metadata": {},
   "source": [
    "## Roberta Pretrained Model"
   ]
  },
  {
   "cell_type": "code",
   "execution_count": 13,
   "metadata": {},
   "outputs": [
    {
     "name": "stdout",
     "output_type": "stream",
     "text": [
      "Requirement already satisfied: matplotlib in g:\\software\\python\\lib\\site-packages (3.8.1)\n",
      "Requirement already satisfied: contourpy>=1.0.1 in g:\\software\\python\\lib\\site-packages (from matplotlib) (1.2.0)\n",
      "Requirement already satisfied: cycler>=0.10 in g:\\software\\python\\lib\\site-packages (from matplotlib) (0.12.1)\n",
      "Requirement already satisfied: fonttools>=4.22.0 in g:\\software\\python\\lib\\site-packages (from matplotlib) (4.44.0)\n",
      "Requirement already satisfied: kiwisolver>=1.3.1 in g:\\software\\python\\lib\\site-packages (from matplotlib) (1.4.5)\n",
      "Requirement already satisfied: numpy<2,>=1.21 in g:\\software\\python\\lib\\site-packages (from matplotlib) (1.26.2)\n",
      "Requirement already satisfied: packaging>=20.0 in g:\\software\\python\\lib\\site-packages (from matplotlib) (23.2)\n",
      "Requirement already satisfied: pillow>=8 in g:\\software\\python\\lib\\site-packages (from matplotlib) (10.1.0)\n",
      "Requirement already satisfied: pyparsing>=2.3.1 in g:\\software\\python\\lib\\site-packages (from matplotlib) (3.1.1)\n",
      "Requirement already satisfied: python-dateutil>=2.7 in g:\\software\\python\\lib\\site-packages (from matplotlib) (2.8.2)\n",
      "Requirement already satisfied: six>=1.5 in g:\\software\\python\\lib\\site-packages (from python-dateutil>=2.7->matplotlib) (1.16.0)\n"
     ]
    }
   ],
   "source": [
    "#!pip install matplotlib"
   ]
  },
  {
   "cell_type": "code",
   "execution_count": 14,
   "metadata": {},
   "outputs": [
    {
     "name": "stdout",
     "output_type": "stream",
     "text": [
      "Requirement already satisfied: seaborn in g:\\software\\python\\lib\\site-packages (0.13.0)\n",
      "Requirement already satisfied: numpy!=1.24.0,>=1.20 in g:\\software\\python\\lib\\site-packages (from seaborn) (1.26.2)\n",
      "Requirement already satisfied: pandas>=1.2 in g:\\software\\python\\lib\\site-packages (from seaborn) (2.1.3)\n",
      "Requirement already satisfied: matplotlib!=3.6.1,>=3.3 in g:\\software\\python\\lib\\site-packages (from seaborn) (3.8.1)\n",
      "Requirement already satisfied: contourpy>=1.0.1 in g:\\software\\python\\lib\\site-packages (from matplotlib!=3.6.1,>=3.3->seaborn) (1.2.0)\n",
      "Requirement already satisfied: cycler>=0.10 in g:\\software\\python\\lib\\site-packages (from matplotlib!=3.6.1,>=3.3->seaborn) (0.12.1)\n",
      "Requirement already satisfied: fonttools>=4.22.0 in g:\\software\\python\\lib\\site-packages (from matplotlib!=3.6.1,>=3.3->seaborn) (4.44.0)\n",
      "Requirement already satisfied: kiwisolver>=1.3.1 in g:\\software\\python\\lib\\site-packages (from matplotlib!=3.6.1,>=3.3->seaborn) (1.4.5)\n",
      "Requirement already satisfied: packaging>=20.0 in g:\\software\\python\\lib\\site-packages (from matplotlib!=3.6.1,>=3.3->seaborn) (23.2)\n",
      "Requirement already satisfied: pillow>=8 in g:\\software\\python\\lib\\site-packages (from matplotlib!=3.6.1,>=3.3->seaborn) (10.1.0)\n",
      "Requirement already satisfied: pyparsing>=2.3.1 in g:\\software\\python\\lib\\site-packages (from matplotlib!=3.6.1,>=3.3->seaborn) (3.1.1)\n",
      "Requirement already satisfied: python-dateutil>=2.7 in g:\\software\\python\\lib\\site-packages (from matplotlib!=3.6.1,>=3.3->seaborn) (2.8.2)\n",
      "Requirement already satisfied: pytz>=2020.1 in g:\\software\\python\\lib\\site-packages (from pandas>=1.2->seaborn) (2023.3.post1)\n",
      "Requirement already satisfied: tzdata>=2022.1 in g:\\software\\python\\lib\\site-packages (from pandas>=1.2->seaborn) (2023.3)\n",
      "Requirement already satisfied: six>=1.5 in g:\\software\\python\\lib\\site-packages (from python-dateutil>=2.7->matplotlib!=3.6.1,>=3.3->seaborn) (1.16.0)\n"
     ]
    }
   ],
   "source": [
    "#!pip install seaborn"
   ]
  },
  {
   "cell_type": "code",
   "execution_count": 15,
   "metadata": {},
   "outputs": [],
   "source": [
    "import pandas as pd\n",
    "import numpy as np\n",
    "import matplotlib.pyplot as plt\n",
    "import seaborn as sns"
   ]
  },
  {
   "cell_type": "code",
   "execution_count": 16,
   "metadata": {},
   "outputs": [
    {
     "name": "stdout",
     "output_type": "stream",
     "text": [
      "Requirement already satisfied: tqdm in g:\\software\\python\\lib\\site-packages (4.66.1)\n",
      "Requirement already satisfied: colorama in g:\\software\\python\\lib\\site-packages (from tqdm) (0.4.6)\n"
     ]
    }
   ],
   "source": [
    "#!pip install tqdm"
   ]
  },
  {
   "cell_type": "code",
   "execution_count": 17,
   "metadata": {},
   "outputs": [],
   "source": [
    "from tqdm.notebook import tqdm"
   ]
  },
  {
   "cell_type": "code",
   "execution_count": 18,
   "metadata": {},
   "outputs": [],
   "source": [
    "#pip install pywinpty"
   ]
  },
  {
   "cell_type": "code",
   "execution_count": 19,
   "metadata": {},
   "outputs": [
    {
     "name": "stdout",
     "output_type": "stream",
     "text": [
      "Requirement already satisfied: transformers in g:\\software\\python\\lib\\site-packages (4.35.2)\n",
      "Requirement already satisfied: filelock in g:\\software\\python\\lib\\site-packages (from transformers) (3.9.0)\n",
      "Requirement already satisfied: huggingface-hub<1.0,>=0.16.4 in g:\\software\\python\\lib\\site-packages (from transformers) (0.19.3)\n",
      "Requirement already satisfied: numpy>=1.17 in g:\\software\\python\\lib\\site-packages (from transformers) (1.26.2)\n",
      "Requirement already satisfied: packaging>=20.0 in g:\\software\\python\\lib\\site-packages (from transformers) (23.2)\n",
      "Requirement already satisfied: pyyaml>=5.1 in g:\\software\\python\\lib\\site-packages (from transformers) (6.0.1)\n",
      "Requirement already satisfied: regex!=2019.12.17 in g:\\software\\python\\lib\\site-packages (from transformers) (2023.10.3)\n",
      "Requirement already satisfied: requests in g:\\software\\python\\lib\\site-packages (from transformers) (2.31.0)\n",
      "Requirement already satisfied: tokenizers<0.19,>=0.14 in g:\\software\\python\\lib\\site-packages (from transformers) (0.15.0)\n",
      "Requirement already satisfied: safetensors>=0.3.1 in g:\\software\\python\\lib\\site-packages (from transformers) (0.4.0)\n",
      "Requirement already satisfied: tqdm>=4.27 in g:\\software\\python\\lib\\site-packages (from transformers) (4.66.1)\n",
      "Requirement already satisfied: fsspec>=2023.5.0 in g:\\software\\python\\lib\\site-packages (from huggingface-hub<1.0,>=0.16.4->transformers) (2023.10.0)\n",
      "Requirement already satisfied: typing-extensions>=3.7.4.3 in g:\\software\\python\\lib\\site-packages (from huggingface-hub<1.0,>=0.16.4->transformers) (4.8.0)\n",
      "Requirement already satisfied: colorama in g:\\software\\python\\lib\\site-packages (from tqdm>=4.27->transformers) (0.4.6)\n",
      "Requirement already satisfied: charset-normalizer<4,>=2 in g:\\software\\python\\lib\\site-packages (from requests->transformers) (3.3.2)\n",
      "Requirement already satisfied: idna<4,>=2.5 in g:\\software\\python\\lib\\site-packages (from requests->transformers) (3.4)\n",
      "Requirement already satisfied: urllib3<3,>=1.21.1 in g:\\software\\python\\lib\\site-packages (from requests->transformers) (2.1.0)\n",
      "Requirement already satisfied: certifi>=2017.4.17 in g:\\software\\python\\lib\\site-packages (from requests->transformers) (2023.7.22)\n"
     ]
    }
   ],
   "source": [
    "#!pip install transformers"
   ]
  },
  {
   "cell_type": "code",
   "execution_count": 20,
   "metadata": {},
   "outputs": [
    {
     "name": "stdout",
     "output_type": "stream",
     "text": [
      "Requirement already satisfied: scipy in g:\\software\\python\\lib\\site-packages (1.11.3)\n",
      "Requirement already satisfied: numpy<1.28.0,>=1.21.6 in g:\\software\\python\\lib\\site-packages (from scipy) (1.26.2)\n"
     ]
    }
   ],
   "source": [
    "#!pip install scipy"
   ]
  },
  {
   "cell_type": "code",
   "execution_count": 21,
   "metadata": {},
   "outputs": [],
   "source": [
    "from transformers import AutoTokenizer\n",
    "from transformers import AutoModelForSequenceClassification\n",
    "from scipy.special import softmax"
   ]
  },
  {
   "cell_type": "code",
   "execution_count": 22,
   "metadata": {},
   "outputs": [],
   "source": [
    "df = pd.DataFrame(comments_list, columns=['Message','Timestamp','Source'])"
   ]
  },
  {
   "cell_type": "code",
   "execution_count": 23,
   "metadata": {},
   "outputs": [
    {
     "name": "stdout",
     "output_type": "stream",
     "text": [
      "Message      object\n",
      "Timestamp    object\n",
      "Source       object\n",
      "dtype: object\n"
     ]
    },
    {
     "data": {
      "text/html": [
       "<div>\n",
       "<style scoped>\n",
       "    .dataframe tbody tr th:only-of-type {\n",
       "        vertical-align: middle;\n",
       "    }\n",
       "\n",
       "    .dataframe tbody tr th {\n",
       "        vertical-align: top;\n",
       "    }\n",
       "\n",
       "    .dataframe thead th {\n",
       "        text-align: right;\n",
       "    }\n",
       "</style>\n",
       "<table border=\"1\" class=\"dataframe\">\n",
       "  <thead>\n",
       "    <tr style=\"text-align: right;\">\n",
       "      <th></th>\n",
       "      <th>Message</th>\n",
       "      <th>Timestamp</th>\n",
       "      <th>Source</th>\n",
       "    </tr>\n",
       "  </thead>\n",
       "  <tbody>\n",
       "    <tr>\n",
       "      <th>0</th>\n",
       "      <td>positive</td>\n",
       "      <td>2023-11-12T07:58:48+0000</td>\n",
       "      <td>Facebook</td>\n",
       "    </tr>\n",
       "    <tr>\n",
       "      <th>1</th>\n",
       "      <td>helo</td>\n",
       "      <td>2023-11-12T06:44:30+0000</td>\n",
       "      <td>Facebook</td>\n",
       "    </tr>\n",
       "    <tr>\n",
       "      <th>2</th>\n",
       "      <td>ok</td>\n",
       "      <td>2023-11-12T06:56:52+0000</td>\n",
       "      <td>Facebook</td>\n",
       "    </tr>\n",
       "    <tr>\n",
       "      <th>3</th>\n",
       "      <td>hey</td>\n",
       "      <td>2023-11-12T07:06:08+0000</td>\n",
       "      <td>Facebook</td>\n",
       "    </tr>\n",
       "    <tr>\n",
       "      <th>4</th>\n",
       "      <td>joy mohunbagan</td>\n",
       "      <td>2023-11-13T14:10:08+0000</td>\n",
       "      <td>Instagram</td>\n",
       "    </tr>\n",
       "    <tr>\n",
       "      <th>5</th>\n",
       "      <td>pic is nice</td>\n",
       "      <td>2023-11-13T14:09:01+0000</td>\n",
       "      <td>Instagram</td>\n",
       "    </tr>\n",
       "    <tr>\n",
       "      <th>6</th>\n",
       "      <td>it is not good</td>\n",
       "      <td>2023-11-13T13:54:07+0000</td>\n",
       "      <td>Instagram</td>\n",
       "    </tr>\n",
       "    <tr>\n",
       "      <th>7</th>\n",
       "      <td>its is worst</td>\n",
       "      <td>2023-11-13T13:53:24+0000</td>\n",
       "      <td>Instagram</td>\n",
       "    </tr>\n",
       "    <tr>\n",
       "      <th>8</th>\n",
       "      <td>hi</td>\n",
       "      <td>2023-11-12T10:53:33+0000</td>\n",
       "      <td>Instagram</td>\n",
       "    </tr>\n",
       "    <tr>\n",
       "      <th>9</th>\n",
       "      <td>Hemlo</td>\n",
       "      <td>2023-11-12T09:52:54+0000</td>\n",
       "      <td>Instagram</td>\n",
       "    </tr>\n",
       "  </tbody>\n",
       "</table>\n",
       "</div>"
      ],
      "text/plain": [
       "          Message                 Timestamp     Source\n",
       "0        positive  2023-11-12T07:58:48+0000   Facebook\n",
       "1            helo  2023-11-12T06:44:30+0000   Facebook\n",
       "2              ok  2023-11-12T06:56:52+0000   Facebook\n",
       "3             hey  2023-11-12T07:06:08+0000   Facebook\n",
       "4  joy mohunbagan  2023-11-13T14:10:08+0000  Instagram\n",
       "5     pic is nice  2023-11-13T14:09:01+0000  Instagram\n",
       "6  it is not good  2023-11-13T13:54:07+0000  Instagram\n",
       "7    its is worst  2023-11-13T13:53:24+0000  Instagram\n",
       "8              hi  2023-11-12T10:53:33+0000  Instagram\n",
       "9           Hemlo  2023-11-12T09:52:54+0000  Instagram"
      ]
     },
     "execution_count": 23,
     "metadata": {},
     "output_type": "execute_result"
    }
   ],
   "source": [
    "print(df.dtypes)\n",
    "df"
   ]
  },
  {
   "cell_type": "code",
   "execution_count": 24,
   "metadata": {},
   "outputs": [],
   "source": [
    "df['Timestamp'] = pd.to_datetime(df['Timestamp'])"
   ]
  },
  {
   "cell_type": "code",
   "execution_count": 25,
   "metadata": {},
   "outputs": [
    {
     "name": "stdout",
     "output_type": "stream",
     "text": [
      "Message                   object\n",
      "Timestamp    datetime64[ns, UTC]\n",
      "Source                    object\n",
      "dtype: object\n"
     ]
    }
   ],
   "source": [
    "print(df.dtypes)"
   ]
  },
  {
   "cell_type": "code",
   "execution_count": 26,
   "metadata": {},
   "outputs": [],
   "source": [
    "df.sort_values(by='Timestamp', inplace = True)"
   ]
  },
  {
   "cell_type": "code",
   "execution_count": 27,
   "metadata": {},
   "outputs": [
    {
     "data": {
      "text/html": [
       "<div>\n",
       "<style scoped>\n",
       "    .dataframe tbody tr th:only-of-type {\n",
       "        vertical-align: middle;\n",
       "    }\n",
       "\n",
       "    .dataframe tbody tr th {\n",
       "        vertical-align: top;\n",
       "    }\n",
       "\n",
       "    .dataframe thead th {\n",
       "        text-align: right;\n",
       "    }\n",
       "</style>\n",
       "<table border=\"1\" class=\"dataframe\">\n",
       "  <thead>\n",
       "    <tr style=\"text-align: right;\">\n",
       "      <th></th>\n",
       "      <th>Message</th>\n",
       "      <th>Timestamp</th>\n",
       "      <th>Source</th>\n",
       "    </tr>\n",
       "  </thead>\n",
       "  <tbody>\n",
       "    <tr>\n",
       "      <th>1</th>\n",
       "      <td>helo</td>\n",
       "      <td>2023-11-12 06:44:30+00:00</td>\n",
       "      <td>Facebook</td>\n",
       "    </tr>\n",
       "    <tr>\n",
       "      <th>2</th>\n",
       "      <td>ok</td>\n",
       "      <td>2023-11-12 06:56:52+00:00</td>\n",
       "      <td>Facebook</td>\n",
       "    </tr>\n",
       "    <tr>\n",
       "      <th>3</th>\n",
       "      <td>hey</td>\n",
       "      <td>2023-11-12 07:06:08+00:00</td>\n",
       "      <td>Facebook</td>\n",
       "    </tr>\n",
       "    <tr>\n",
       "      <th>0</th>\n",
       "      <td>positive</td>\n",
       "      <td>2023-11-12 07:58:48+00:00</td>\n",
       "      <td>Facebook</td>\n",
       "    </tr>\n",
       "    <tr>\n",
       "      <th>9</th>\n",
       "      <td>Hemlo</td>\n",
       "      <td>2023-11-12 09:52:54+00:00</td>\n",
       "      <td>Instagram</td>\n",
       "    </tr>\n",
       "    <tr>\n",
       "      <th>8</th>\n",
       "      <td>hi</td>\n",
       "      <td>2023-11-12 10:53:33+00:00</td>\n",
       "      <td>Instagram</td>\n",
       "    </tr>\n",
       "    <tr>\n",
       "      <th>7</th>\n",
       "      <td>its is worst</td>\n",
       "      <td>2023-11-13 13:53:24+00:00</td>\n",
       "      <td>Instagram</td>\n",
       "    </tr>\n",
       "    <tr>\n",
       "      <th>6</th>\n",
       "      <td>it is not good</td>\n",
       "      <td>2023-11-13 13:54:07+00:00</td>\n",
       "      <td>Instagram</td>\n",
       "    </tr>\n",
       "    <tr>\n",
       "      <th>5</th>\n",
       "      <td>pic is nice</td>\n",
       "      <td>2023-11-13 14:09:01+00:00</td>\n",
       "      <td>Instagram</td>\n",
       "    </tr>\n",
       "    <tr>\n",
       "      <th>4</th>\n",
       "      <td>joy mohunbagan</td>\n",
       "      <td>2023-11-13 14:10:08+00:00</td>\n",
       "      <td>Instagram</td>\n",
       "    </tr>\n",
       "  </tbody>\n",
       "</table>\n",
       "</div>"
      ],
      "text/plain": [
       "          Message                 Timestamp     Source\n",
       "1            helo 2023-11-12 06:44:30+00:00   Facebook\n",
       "2              ok 2023-11-12 06:56:52+00:00   Facebook\n",
       "3             hey 2023-11-12 07:06:08+00:00   Facebook\n",
       "0        positive 2023-11-12 07:58:48+00:00   Facebook\n",
       "9           Hemlo 2023-11-12 09:52:54+00:00  Instagram\n",
       "8              hi 2023-11-12 10:53:33+00:00  Instagram\n",
       "7    its is worst 2023-11-13 13:53:24+00:00  Instagram\n",
       "6  it is not good 2023-11-13 13:54:07+00:00  Instagram\n",
       "5     pic is nice 2023-11-13 14:09:01+00:00  Instagram\n",
       "4  joy mohunbagan 2023-11-13 14:10:08+00:00  Instagram"
      ]
     },
     "execution_count": 27,
     "metadata": {},
     "output_type": "execute_result"
    }
   ],
   "source": [
    "df"
   ]
  },
  {
   "cell_type": "code",
   "execution_count": 28,
   "metadata": {},
   "outputs": [],
   "source": [
    "MODEL = f\"cardiffnlp/twitter-roberta-base-sentiment\"\n",
    "tokenizer = AutoTokenizer.from_pretrained(MODEL)\n",
    "model = AutoModelForSequenceClassification.from_pretrained(MODEL)"
   ]
  },
  {
   "cell_type": "code",
   "execution_count": 29,
   "metadata": {},
   "outputs": [],
   "source": [
    "def polarity_scores_roberta(example):\n",
    "    encoded_text = tokenizer(example, return_tensors='pt')\n",
    "    output = model(**encoded_text)\n",
    "    scores = output[0][0].detach().numpy()\n",
    "    scores = softmax(scores)\n",
    "    scores_dict = {\n",
    "        'roberta_neg' : scores[0],\n",
    "        'roberta_neu' : scores[1],\n",
    "        'roberta_pos' : scores[2]\n",
    "    }\n",
    "    return scores_dict"
   ]
  },
  {
   "cell_type": "code",
   "execution_count": 30,
   "metadata": {},
   "outputs": [
    {
     "name": "stdout",
     "output_type": "stream",
     "text": [
      "Requirement already satisfied: jupyter in g:\\software\\python\\lib\\site-packages (1.0.0)\n",
      "Requirement already satisfied: notebook in g:\\software\\python\\lib\\site-packages (from jupyter) (7.0.6)\n",
      "Requirement already satisfied: qtconsole in g:\\software\\python\\lib\\site-packages (from jupyter) (5.5.0)\n",
      "Requirement already satisfied: jupyter-console in g:\\software\\python\\lib\\site-packages (from jupyter) (6.6.3)\n",
      "Requirement already satisfied: nbconvert in g:\\software\\python\\lib\\site-packages (from jupyter) (7.11.0)\n",
      "Requirement already satisfied: ipykernel in c:\\users\\srinjoy chatterjee\\appdata\\roaming\\python\\python311\\site-packages (from jupyter) (6.26.0)\n",
      "Requirement already satisfied: ipywidgets in g:\\software\\python\\lib\\site-packages (from jupyter) (8.1.1)\n",
      "Requirement already satisfied: comm>=0.1.1 in c:\\users\\srinjoy chatterjee\\appdata\\roaming\\python\\python311\\site-packages (from ipykernel->jupyter) (0.2.0)\n",
      "Requirement already satisfied: debugpy>=1.6.5 in c:\\users\\srinjoy chatterjee\\appdata\\roaming\\python\\python311\\site-packages (from ipykernel->jupyter) (1.8.0)\n",
      "Requirement already satisfied: ipython>=7.23.1 in c:\\users\\srinjoy chatterjee\\appdata\\roaming\\python\\python311\\site-packages (from ipykernel->jupyter) (8.17.2)\n",
      "Requirement already satisfied: jupyter-client>=6.1.12 in c:\\users\\srinjoy chatterjee\\appdata\\roaming\\python\\python311\\site-packages (from ipykernel->jupyter) (8.6.0)\n",
      "Requirement already satisfied: jupyter-core!=5.0.*,>=4.12 in c:\\users\\srinjoy chatterjee\\appdata\\roaming\\python\\python311\\site-packages (from ipykernel->jupyter) (5.5.0)\n",
      "Requirement already satisfied: matplotlib-inline>=0.1 in c:\\users\\srinjoy chatterjee\\appdata\\roaming\\python\\python311\\site-packages (from ipykernel->jupyter) (0.1.6)\n",
      "Requirement already satisfied: nest-asyncio in c:\\users\\srinjoy chatterjee\\appdata\\roaming\\python\\python311\\site-packages (from ipykernel->jupyter) (1.5.8)\n",
      "Requirement already satisfied: packaging in g:\\software\\python\\lib\\site-packages (from ipykernel->jupyter) (23.2)\n",
      "Requirement already satisfied: psutil in c:\\users\\srinjoy chatterjee\\appdata\\roaming\\python\\python311\\site-packages (from ipykernel->jupyter) (5.9.6)\n",
      "Requirement already satisfied: pyzmq>=20 in c:\\users\\srinjoy chatterjee\\appdata\\roaming\\python\\python311\\site-packages (from ipykernel->jupyter) (25.1.1)\n",
      "Requirement already satisfied: tornado>=6.1 in g:\\software\\python\\lib\\site-packages (from ipykernel->jupyter) (6.3.3)\n",
      "Requirement already satisfied: traitlets>=5.4.0 in c:\\users\\srinjoy chatterjee\\appdata\\roaming\\python\\python311\\site-packages (from ipykernel->jupyter) (5.13.0)\n",
      "Requirement already satisfied: widgetsnbextension~=4.0.9 in g:\\software\\python\\lib\\site-packages (from ipywidgets->jupyter) (4.0.9)\n",
      "Requirement already satisfied: jupyterlab-widgets~=3.0.9 in g:\\software\\python\\lib\\site-packages (from ipywidgets->jupyter) (3.0.9)\n",
      "Requirement already satisfied: prompt-toolkit>=3.0.30 in c:\\users\\srinjoy chatterjee\\appdata\\roaming\\python\\python311\\site-packages (from jupyter-console->jupyter) (3.0.41)\n",
      "Requirement already satisfied: pygments in g:\\software\\python\\lib\\site-packages (from jupyter-console->jupyter) (2.16.1)\n",
      "Requirement already satisfied: beautifulsoup4 in g:\\software\\python\\lib\\site-packages (from nbconvert->jupyter) (4.12.2)\n",
      "Requirement already satisfied: bleach!=5.0.0 in g:\\software\\python\\lib\\site-packages (from nbconvert->jupyter) (6.1.0)\n",
      "Requirement already satisfied: defusedxml in g:\\software\\python\\lib\\site-packages (from nbconvert->jupyter) (0.7.1)\n",
      "Requirement already satisfied: jinja2>=3.0 in g:\\software\\python\\lib\\site-packages (from nbconvert->jupyter) (3.1.2)\n",
      "Requirement already satisfied: jupyterlab-pygments in g:\\software\\python\\lib\\site-packages (from nbconvert->jupyter) (0.2.2)\n",
      "Requirement already satisfied: markupsafe>=2.0 in g:\\software\\python\\lib\\site-packages (from nbconvert->jupyter) (2.1.3)\n",
      "Requirement already satisfied: mistune<4,>=2.0.3 in g:\\software\\python\\lib\\site-packages (from nbconvert->jupyter) (3.0.2)\n",
      "Requirement already satisfied: nbclient>=0.5.0 in g:\\software\\python\\lib\\site-packages (from nbconvert->jupyter) (0.9.0)\n",
      "Requirement already satisfied: nbformat>=5.7 in g:\\software\\python\\lib\\site-packages (from nbconvert->jupyter) (5.9.2)\n",
      "Requirement already satisfied: pandocfilters>=1.4.1 in g:\\software\\python\\lib\\site-packages (from nbconvert->jupyter) (1.5.0)\n",
      "Requirement already satisfied: tinycss2 in g:\\software\\python\\lib\\site-packages (from nbconvert->jupyter) (1.2.1)\n",
      "Requirement already satisfied: jupyter-server<3,>=2.4.0 in g:\\software\\python\\lib\\site-packages (from notebook->jupyter) (2.10.1)\n",
      "Requirement already satisfied: jupyterlab-server<3,>=2.22.1 in g:\\software\\python\\lib\\site-packages (from notebook->jupyter) (2.25.1)\n",
      "Requirement already satisfied: jupyterlab<5,>=4.0.2 in g:\\software\\python\\lib\\site-packages (from notebook->jupyter) (4.0.8)\n",
      "Requirement already satisfied: notebook-shim<0.3,>=0.2 in g:\\software\\python\\lib\\site-packages (from notebook->jupyter) (0.2.3)\n",
      "Requirement already satisfied: qtpy>=2.4.0 in g:\\software\\python\\lib\\site-packages (from qtconsole->jupyter) (2.4.1)\n",
      "Requirement already satisfied: six>=1.9.0 in g:\\software\\python\\lib\\site-packages (from bleach!=5.0.0->nbconvert->jupyter) (1.16.0)\n",
      "Requirement already satisfied: webencodings in g:\\software\\python\\lib\\site-packages (from bleach!=5.0.0->nbconvert->jupyter) (0.5.1)\n",
      "Requirement already satisfied: decorator in c:\\users\\srinjoy chatterjee\\appdata\\roaming\\python\\python311\\site-packages (from ipython>=7.23.1->ipykernel->jupyter) (5.1.1)\n",
      "Requirement already satisfied: jedi>=0.16 in c:\\users\\srinjoy chatterjee\\appdata\\roaming\\python\\python311\\site-packages (from ipython>=7.23.1->ipykernel->jupyter) (0.19.1)\n",
      "Requirement already satisfied: stack-data in c:\\users\\srinjoy chatterjee\\appdata\\roaming\\python\\python311\\site-packages (from ipython>=7.23.1->ipykernel->jupyter) (0.6.3)\n",
      "Requirement already satisfied: colorama in g:\\software\\python\\lib\\site-packages (from ipython>=7.23.1->ipykernel->jupyter) (0.4.6)\n",
      "Requirement already satisfied: python-dateutil>=2.8.2 in g:\\software\\python\\lib\\site-packages (from jupyter-client>=6.1.12->ipykernel->jupyter) (2.8.2)\n",
      "Requirement already satisfied: platformdirs>=2.5 in c:\\users\\srinjoy chatterjee\\appdata\\roaming\\python\\python311\\site-packages (from jupyter-core!=5.0.*,>=4.12->ipykernel->jupyter) (4.0.0)\n",
      "Requirement already satisfied: pywin32>=300 in c:\\users\\srinjoy chatterjee\\appdata\\roaming\\python\\python311\\site-packages (from jupyter-core!=5.0.*,>=4.12->ipykernel->jupyter) (306)\n",
      "Requirement already satisfied: anyio>=3.1.0 in g:\\software\\python\\lib\\site-packages (from jupyter-server<3,>=2.4.0->notebook->jupyter) (4.0.0)\n",
      "Requirement already satisfied: argon2-cffi in g:\\software\\python\\lib\\site-packages (from jupyter-server<3,>=2.4.0->notebook->jupyter) (23.1.0)\n",
      "Requirement already satisfied: jupyter-events>=0.9.0 in g:\\software\\python\\lib\\site-packages (from jupyter-server<3,>=2.4.0->notebook->jupyter) (0.9.0)\n",
      "Requirement already satisfied: jupyter-server-terminals in g:\\software\\python\\lib\\site-packages (from jupyter-server<3,>=2.4.0->notebook->jupyter) (0.4.4)\n",
      "Requirement already satisfied: overrides in g:\\software\\python\\lib\\site-packages (from jupyter-server<3,>=2.4.0->notebook->jupyter) (7.4.0)\n",
      "Requirement already satisfied: prometheus-client in g:\\software\\python\\lib\\site-packages (from jupyter-server<3,>=2.4.0->notebook->jupyter) (0.18.0)\n",
      "Requirement already satisfied: pywinpty in g:\\software\\python\\lib\\site-packages (from jupyter-server<3,>=2.4.0->notebook->jupyter) (2.0.12)\n",
      "Requirement already satisfied: send2trash>=1.8.2 in g:\\software\\python\\lib\\site-packages (from jupyter-server<3,>=2.4.0->notebook->jupyter) (1.8.2)\n",
      "Requirement already satisfied: terminado>=0.8.3 in g:\\software\\python\\lib\\site-packages (from jupyter-server<3,>=2.4.0->notebook->jupyter) (0.18.0)\n",
      "Requirement already satisfied: websocket-client in g:\\software\\python\\lib\\site-packages (from jupyter-server<3,>=2.4.0->notebook->jupyter) (1.6.4)\n",
      "Requirement already satisfied: async-lru>=1.0.0 in g:\\software\\python\\lib\\site-packages (from jupyterlab<5,>=4.0.2->notebook->jupyter) (2.0.4)\n",
      "Requirement already satisfied: jupyter-lsp>=2.0.0 in g:\\software\\python\\lib\\site-packages (from jupyterlab<5,>=4.0.2->notebook->jupyter) (2.2.0)\n",
      "Requirement already satisfied: babel>=2.10 in g:\\software\\python\\lib\\site-packages (from jupyterlab-server<3,>=2.22.1->notebook->jupyter) (2.13.1)\n",
      "Requirement already satisfied: json5>=0.9.0 in g:\\software\\python\\lib\\site-packages (from jupyterlab-server<3,>=2.22.1->notebook->jupyter) (0.9.14)\n",
      "Requirement already satisfied: jsonschema>=4.18.0 in g:\\software\\python\\lib\\site-packages (from jupyterlab-server<3,>=2.22.1->notebook->jupyter) (4.19.2)\n",
      "Requirement already satisfied: requests>=2.31 in g:\\software\\python\\lib\\site-packages (from jupyterlab-server<3,>=2.22.1->notebook->jupyter) (2.31.0)\n",
      "Requirement already satisfied: fastjsonschema in g:\\software\\python\\lib\\site-packages (from nbformat>=5.7->nbconvert->jupyter) (2.19.0)\n",
      "Requirement already satisfied: wcwidth in c:\\users\\srinjoy chatterjee\\appdata\\roaming\\python\\python311\\site-packages (from prompt-toolkit>=3.0.30->jupyter-console->jupyter) (0.2.10)\n",
      "Requirement already satisfied: soupsieve>1.2 in g:\\software\\python\\lib\\site-packages (from beautifulsoup4->nbconvert->jupyter) (2.5)\n",
      "Requirement already satisfied: idna>=2.8 in g:\\software\\python\\lib\\site-packages (from anyio>=3.1.0->jupyter-server<3,>=2.4.0->notebook->jupyter) (3.4)\n",
      "Requirement already satisfied: sniffio>=1.1 in g:\\software\\python\\lib\\site-packages (from anyio>=3.1.0->jupyter-server<3,>=2.4.0->notebook->jupyter) (1.3.0)\n",
      "Requirement already satisfied: parso<0.9.0,>=0.8.3 in c:\\users\\srinjoy chatterjee\\appdata\\roaming\\python\\python311\\site-packages (from jedi>=0.16->ipython>=7.23.1->ipykernel->jupyter) (0.8.3)\n",
      "Requirement already satisfied: attrs>=22.2.0 in g:\\software\\python\\lib\\site-packages (from jsonschema>=4.18.0->jupyterlab-server<3,>=2.22.1->notebook->jupyter) (23.1.0)\n",
      "Requirement already satisfied: jsonschema-specifications>=2023.03.6 in g:\\software\\python\\lib\\site-packages (from jsonschema>=4.18.0->jupyterlab-server<3,>=2.22.1->notebook->jupyter) (2023.11.1)\n",
      "Requirement already satisfied: referencing>=0.28.4 in g:\\software\\python\\lib\\site-packages (from jsonschema>=4.18.0->jupyterlab-server<3,>=2.22.1->notebook->jupyter) (0.31.0)\n",
      "Requirement already satisfied: rpds-py>=0.7.1 in g:\\software\\python\\lib\\site-packages (from jsonschema>=4.18.0->jupyterlab-server<3,>=2.22.1->notebook->jupyter) (0.12.0)\n",
      "Requirement already satisfied: python-json-logger>=2.0.4 in g:\\software\\python\\lib\\site-packages (from jupyter-events>=0.9.0->jupyter-server<3,>=2.4.0->notebook->jupyter) (2.0.7)\n",
      "Requirement already satisfied: pyyaml>=5.3 in g:\\software\\python\\lib\\site-packages (from jupyter-events>=0.9.0->jupyter-server<3,>=2.4.0->notebook->jupyter) (6.0.1)\n",
      "Requirement already satisfied: rfc3339-validator in g:\\software\\python\\lib\\site-packages (from jupyter-events>=0.9.0->jupyter-server<3,>=2.4.0->notebook->jupyter) (0.1.4)\n",
      "Requirement already satisfied: rfc3986-validator>=0.1.1 in g:\\software\\python\\lib\\site-packages (from jupyter-events>=0.9.0->jupyter-server<3,>=2.4.0->notebook->jupyter) (0.1.1)\n",
      "Requirement already satisfied: charset-normalizer<4,>=2 in g:\\software\\python\\lib\\site-packages (from requests>=2.31->jupyterlab-server<3,>=2.22.1->notebook->jupyter) (3.3.2)\n",
      "Requirement already satisfied: urllib3<3,>=1.21.1 in g:\\software\\python\\lib\\site-packages (from requests>=2.31->jupyterlab-server<3,>=2.22.1->notebook->jupyter) (2.1.0)\n",
      "Requirement already satisfied: certifi>=2017.4.17 in g:\\software\\python\\lib\\site-packages (from requests>=2.31->jupyterlab-server<3,>=2.22.1->notebook->jupyter) (2023.7.22)\n",
      "Requirement already satisfied: argon2-cffi-bindings in g:\\software\\python\\lib\\site-packages (from argon2-cffi->jupyter-server<3,>=2.4.0->notebook->jupyter) (21.2.0)\n",
      "Requirement already satisfied: executing>=1.2.0 in c:\\users\\srinjoy chatterjee\\appdata\\roaming\\python\\python311\\site-packages (from stack-data->ipython>=7.23.1->ipykernel->jupyter) (2.0.1)\n",
      "Requirement already satisfied: asttokens>=2.1.0 in c:\\users\\srinjoy chatterjee\\appdata\\roaming\\python\\python311\\site-packages (from stack-data->ipython>=7.23.1->ipykernel->jupyter) (2.4.1)\n",
      "Requirement already satisfied: pure-eval in c:\\users\\srinjoy chatterjee\\appdata\\roaming\\python\\python311\\site-packages (from stack-data->ipython>=7.23.1->ipykernel->jupyter) (0.2.2)\n",
      "Requirement already satisfied: fqdn in g:\\software\\python\\lib\\site-packages (from jsonschema[format-nongpl]>=4.18.0->jupyter-events>=0.9.0->jupyter-server<3,>=2.4.0->notebook->jupyter) (1.5.1)\n",
      "Requirement already satisfied: isoduration in g:\\software\\python\\lib\\site-packages (from jsonschema[format-nongpl]>=4.18.0->jupyter-events>=0.9.0->jupyter-server<3,>=2.4.0->notebook->jupyter) (20.11.0)\n",
      "Requirement already satisfied: jsonpointer>1.13 in g:\\software\\python\\lib\\site-packages (from jsonschema[format-nongpl]>=4.18.0->jupyter-events>=0.9.0->jupyter-server<3,>=2.4.0->notebook->jupyter) (2.4)\n",
      "Requirement already satisfied: uri-template in g:\\software\\python\\lib\\site-packages (from jsonschema[format-nongpl]>=4.18.0->jupyter-events>=0.9.0->jupyter-server<3,>=2.4.0->notebook->jupyter) (1.3.0)\n",
      "Requirement already satisfied: webcolors>=1.11 in g:\\software\\python\\lib\\site-packages (from jsonschema[format-nongpl]>=4.18.0->jupyter-events>=0.9.0->jupyter-server<3,>=2.4.0->notebook->jupyter) (1.13)\n",
      "Requirement already satisfied: cffi>=1.0.1 in g:\\software\\python\\lib\\site-packages (from argon2-cffi-bindings->argon2-cffi->jupyter-server<3,>=2.4.0->notebook->jupyter) (1.16.0)\n",
      "Requirement already satisfied: pycparser in g:\\software\\python\\lib\\site-packages (from cffi>=1.0.1->argon2-cffi-bindings->argon2-cffi->jupyter-server<3,>=2.4.0->notebook->jupyter) (2.21)\n",
      "Requirement already satisfied: arrow>=0.15.0 in g:\\software\\python\\lib\\site-packages (from isoduration->jsonschema[format-nongpl]>=4.18.0->jupyter-events>=0.9.0->jupyter-server<3,>=2.4.0->notebook->jupyter) (1.3.0)\n",
      "Requirement already satisfied: types-python-dateutil>=2.8.10 in g:\\software\\python\\lib\\site-packages (from arrow>=0.15.0->isoduration->jsonschema[format-nongpl]>=4.18.0->jupyter-events>=0.9.0->jupyter-server<3,>=2.4.0->notebook->jupyter) (2.8.19.14)\n"
     ]
    }
   ],
   "source": [
    "#!pip install --upgrade jupyter"
   ]
  },
  {
   "cell_type": "code",
   "execution_count": 31,
   "metadata": {},
   "outputs": [
    {
     "name": "stdout",
     "output_type": "stream",
     "text": [
      "Requirement already satisfied: ipywidgets in g:\\software\\python\\lib\\site-packages (8.1.1)\n",
      "Requirement already satisfied: comm>=0.1.3 in c:\\users\\srinjoy chatterjee\\appdata\\roaming\\python\\python311\\site-packages (from ipywidgets) (0.2.0)\n",
      "Requirement already satisfied: ipython>=6.1.0 in c:\\users\\srinjoy chatterjee\\appdata\\roaming\\python\\python311\\site-packages (from ipywidgets) (8.17.2)\n",
      "Requirement already satisfied: traitlets>=4.3.1 in c:\\users\\srinjoy chatterjee\\appdata\\roaming\\python\\python311\\site-packages (from ipywidgets) (5.13.0)\n",
      "Requirement already satisfied: widgetsnbextension~=4.0.9 in g:\\software\\python\\lib\\site-packages (from ipywidgets) (4.0.9)\n",
      "Requirement already satisfied: jupyterlab-widgets~=3.0.9 in g:\\software\\python\\lib\\site-packages (from ipywidgets) (3.0.9)\n",
      "Requirement already satisfied: decorator in c:\\users\\srinjoy chatterjee\\appdata\\roaming\\python\\python311\\site-packages (from ipython>=6.1.0->ipywidgets) (5.1.1)\n",
      "Requirement already satisfied: jedi>=0.16 in c:\\users\\srinjoy chatterjee\\appdata\\roaming\\python\\python311\\site-packages (from ipython>=6.1.0->ipywidgets) (0.19.1)\n",
      "Requirement already satisfied: matplotlib-inline in c:\\users\\srinjoy chatterjee\\appdata\\roaming\\python\\python311\\site-packages (from ipython>=6.1.0->ipywidgets) (0.1.6)\n",
      "Requirement already satisfied: prompt-toolkit!=3.0.37,<3.1.0,>=3.0.30 in c:\\users\\srinjoy chatterjee\\appdata\\roaming\\python\\python311\\site-packages (from ipython>=6.1.0->ipywidgets) (3.0.41)\n",
      "Requirement already satisfied: pygments>=2.4.0 in g:\\software\\python\\lib\\site-packages (from ipython>=6.1.0->ipywidgets) (2.16.1)\n",
      "Requirement already satisfied: stack-data in c:\\users\\srinjoy chatterjee\\appdata\\roaming\\python\\python311\\site-packages (from ipython>=6.1.0->ipywidgets) (0.6.3)\n",
      "Requirement already satisfied: colorama in g:\\software\\python\\lib\\site-packages (from ipython>=6.1.0->ipywidgets) (0.4.6)\n",
      "Requirement already satisfied: parso<0.9.0,>=0.8.3 in c:\\users\\srinjoy chatterjee\\appdata\\roaming\\python\\python311\\site-packages (from jedi>=0.16->ipython>=6.1.0->ipywidgets) (0.8.3)\n",
      "Requirement already satisfied: wcwidth in c:\\users\\srinjoy chatterjee\\appdata\\roaming\\python\\python311\\site-packages (from prompt-toolkit!=3.0.37,<3.1.0,>=3.0.30->ipython>=6.1.0->ipywidgets) (0.2.10)\n",
      "Requirement already satisfied: executing>=1.2.0 in c:\\users\\srinjoy chatterjee\\appdata\\roaming\\python\\python311\\site-packages (from stack-data->ipython>=6.1.0->ipywidgets) (2.0.1)\n",
      "Requirement already satisfied: asttokens>=2.1.0 in c:\\users\\srinjoy chatterjee\\appdata\\roaming\\python\\python311\\site-packages (from stack-data->ipython>=6.1.0->ipywidgets) (2.4.1)\n",
      "Requirement already satisfied: pure-eval in c:\\users\\srinjoy chatterjee\\appdata\\roaming\\python\\python311\\site-packages (from stack-data->ipython>=6.1.0->ipywidgets) (0.2.2)\n",
      "Requirement already satisfied: six>=1.12.0 in g:\\software\\python\\lib\\site-packages (from asttokens>=2.1.0->stack-data->ipython>=6.1.0->ipywidgets) (1.16.0)\n"
     ]
    }
   ],
   "source": [
    "#!pip install --upgrade ipywidgets"
   ]
  },
  {
   "cell_type": "code",
   "execution_count": 32,
   "metadata": {},
   "outputs": [
    {
     "data": {
      "application/vnd.jupyter.widget-view+json": {
       "model_id": "682b4df4004b49cfbc0d9617926c8046",
       "version_major": 2,
       "version_minor": 0
      },
      "text/plain": [
       "  0%|          | 0/10 [00:00<?, ?it/s]"
      ]
     },
     "metadata": {},
     "output_type": "display_data"
    },
    {
     "name": "stdout",
     "output_type": "stream",
     "text": [
      "Message                           helo\n",
      "Timestamp    2023-11-12 06:44:30+00:00\n",
      "Source                        Facebook\n",
      "Name: 1, dtype: object\n",
      "{'roberta_neg': 0.21808101, 'roberta_neu': 0.5567049, 'roberta_pos': 0.2252141}\n",
      "Message                             ok\n",
      "Timestamp    2023-11-12 06:56:52+00:00\n",
      "Source                        Facebook\n",
      "Name: 2, dtype: object\n",
      "{'roberta_neg': 0.25796354, 'roberta_neu': 0.49621224, 'roberta_pos': 0.24582422}\n",
      "Message                            hey\n",
      "Timestamp    2023-11-12 07:06:08+00:00\n",
      "Source                        Facebook\n",
      "Name: 3, dtype: object\n",
      "{'roberta_neg': 0.21231419, 'roberta_neu': 0.53059936, 'roberta_pos': 0.2570865}\n",
      "Message                       positive\n",
      "Timestamp    2023-11-12 07:58:48+00:00\n",
      "Source                        Facebook\n",
      "Name: 0, dtype: object\n",
      "{'roberta_neg': 0.023347158, 'roberta_neu': 0.31671837, 'roberta_pos': 0.65993446}\n",
      "Message                          Hemlo\n",
      "Timestamp    2023-11-12 09:52:54+00:00\n",
      "Source                       Instagram\n",
      "Name: 9, dtype: object\n",
      "{'roberta_neg': 0.18223727, 'roberta_neu': 0.62168956, 'roberta_pos': 0.19607313}\n",
      "Message                             hi\n",
      "Timestamp    2023-11-12 10:53:33+00:00\n",
      "Source                       Instagram\n",
      "Name: 8, dtype: object\n",
      "{'roberta_neg': 0.20451172, 'roberta_neu': 0.55214864, 'roberta_pos': 0.24333961}\n",
      "Message                   its is worst\n",
      "Timestamp    2023-11-13 13:53:24+00:00\n",
      "Source                       Instagram\n",
      "Name: 7, dtype: object\n",
      "{'roberta_neg': 0.94359654, 'roberta_neu': 0.047329202, 'roberta_pos': 0.009074297}\n",
      "Message                 it is not good\n",
      "Timestamp    2023-11-13 13:54:07+00:00\n",
      "Source                       Instagram\n",
      "Name: 6, dtype: object\n",
      "{'roberta_neg': 0.9658878, 'roberta_neu': 0.029183378, 'roberta_pos': 0.0049288278}\n",
      "Message                    pic is nice\n",
      "Timestamp    2023-11-13 14:09:01+00:00\n",
      "Source                       Instagram\n",
      "Name: 5, dtype: object\n",
      "{'roberta_neg': 0.0072710617, 'roberta_neu': 0.07606582, 'roberta_pos': 0.9166631}\n",
      "Message                 joy mohunbagan\n",
      "Timestamp    2023-11-13 14:10:08+00:00\n",
      "Source                       Instagram\n",
      "Name: 4, dtype: object\n",
      "{'roberta_neg': 0.08026455, 'roberta_neu': 0.7273787, 'roberta_pos': 0.19235675}\n"
     ]
    }
   ],
   "source": [
    "base : float\n",
    "base = 10.00\n",
    "\n",
    "res = {\n",
    "    'pos' : [],\n",
    "    'neg' : []\n",
    "}\n",
    "for i,row in tqdm(df.iterrows(), total=len(df)):\n",
    "    try:\n",
    "        print(row);\n",
    "        text = row['Message']\n",
    "        #myid = row['Id']\n",
    "        roberta_result = polarity_scores_roberta(text)\n",
    "        print(roberta_result)\n",
    "        if roberta_result['roberta_neg']>roberta_result['roberta_neu'] and roberta_result['roberta_neg']>roberta_result['roberta_pos'] :\n",
    "            base-=roberta_result['roberta_neg']\n",
    "            res['neg'].append({\n",
    "                'Comment' : row['Message'],\n",
    "                'Source' :row['Source']\n",
    "            })\n",
    "        if roberta_result['roberta_pos']>roberta_result['roberta_neu'] and roberta_result['roberta_pos']>roberta_result['roberta_neg'] :\n",
    "            base+=roberta_result['roberta_pos']\n",
    "            res['pos'].append({\n",
    "                'Comment' : row['Message'],\n",
    "                'Source' :row['Source']\n",
    "            })\n",
    "        #print(base);\n",
    "    except RuntimeError:\n",
    "        print(f'Broke for id {i}')"
   ]
  },
  {
   "cell_type": "code",
   "execution_count": 33,
   "metadata": {},
   "outputs": [
    {
     "name": "stdout",
     "output_type": "stream",
     "text": [
      "9.667113244533539\n"
     ]
    }
   ],
   "source": [
    "print(base)"
   ]
  },
  {
   "cell_type": "markdown",
   "metadata": {},
   "source": [
    "# Update Database"
   ]
  },
  {
   "cell_type": "code",
   "execution_count": 34,
   "metadata": {},
   "outputs": [],
   "source": [
    "q = f\"update companydetails set Score = {base} where CompanyName = '{company}'\"\n",
    "stm.execute(q)\n",
    "con.commit()"
   ]
  },
  {
   "cell_type": "markdown",
   "metadata": {},
   "source": [
    "# Sending Email"
   ]
  },
  {
   "cell_type": "code",
   "execution_count": 35,
   "metadata": {},
   "outputs": [],
   "source": [
    "import smtplib\n",
    "from email.mime.text import MIMEText\n",
    "from email.mime.multipart import MIMEMultipart"
   ]
  },
  {
   "cell_type": "code",
   "execution_count": 36,
   "metadata": {},
   "outputs": [],
   "source": [
    "def send_email(subject, body, to_email, smtp_server, smtp_port, smtp_username, smtp_password):\n",
    "    # Create the MIME object\n",
    "    msg = MIMEMultipart()\n",
    "    msg['From'] = smtp_username\n",
    "    msg['To'] = to_email\n",
    "    msg['Subject'] = subject\n",
    "\n",
    "    msg.attach(MIMEText(body, 'plain'))\n",
    "\n",
    "    server = smtplib.SMTP(smtp_server, smtp_port)\n",
    "    server.starttls()\n",
    "    server.login(smtp_username, smtp_password)\n",
    "\n",
    "    server.sendmail(smtp_username, to_email, msg.as_string())\n",
    "    server.quit()"
   ]
  },
  {
   "cell_type": "code",
   "execution_count": 37,
   "metadata": {},
   "outputs": [],
   "source": [
    "subject = \"Change In Score Detected\"\n",
    "body = f\"New Score : {base} \\nDelta change : {base-prev} \\nLast 5 negitive comments:{res['neg'][-5:]} \\nLast 5 positive comments:{res['pos'][-5:]}\""
   ]
  },
  {
   "cell_type": "code",
   "execution_count": 38,
   "metadata": {},
   "outputs": [],
   "source": [
    "smtp_server = \"smtp.gmail.com\"\n",
    "smtp_port = 587 "
   ]
  },
  {
   "cell_type": "code",
   "execution_count": 39,
   "metadata": {},
   "outputs": [],
   "source": [
    "if(prev!=base) :\n",
    "    send_email(subject=subject,\n",
    "            body=body,\n",
    "            to_email=Reciver_Mail,\n",
    "            smtp_server=smtp_server,\n",
    "            smtp_port=smtp_port,\n",
    "            smtp_username=config.Sender_mail,\n",
    "            smtp_password=config.AppPassword)\n",
    "    print(\"Mail send\")"
   ]
  },
  {
   "cell_type": "code",
   "execution_count": 40,
   "metadata": {},
   "outputs": [],
   "source": [
    "stm.close()\n",
    "con.close()"
   ]
  },
  {
   "cell_type": "code",
   "execution_count": null,
   "metadata": {},
   "outputs": [],
   "source": [
    "text = f\"{prev} {base}\""
   ]
  },
  {
   "cell_type": "code",
   "execution_count": null,
   "metadata": {},
   "outputs": [],
   "source": [
    "with open('score.txt','w') as file:\n",
    "    file.write(text)"
   ]
  }
 ],
 "metadata": {
  "kernelspec": {
   "display_name": "base",
   "language": "python",
   "name": "python3"
  },
  "language_info": {
   "codemirror_mode": {
    "name": "ipython",
    "version": 3
   },
   "file_extension": ".py",
   "mimetype": "text/x-python",
   "name": "python",
   "nbconvert_exporter": "python",
   "pygments_lexer": "ipython3",
   "version": "3.11.6"
  }
 },
 "nbformat": 4,
 "nbformat_minor": 2
}
