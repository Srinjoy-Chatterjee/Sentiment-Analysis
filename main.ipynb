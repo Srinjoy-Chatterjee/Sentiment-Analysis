{
 "cells": [
  {
   "cell_type": "markdown",
   "metadata": {},
   "source": [
    "# Web Scrapping with API"
   ]
  },
  {
   "cell_type": "code",
   "execution_count": 28,
   "metadata": {},
   "outputs": [],
   "source": [
    "import config\n",
    "import requests"
   ]
  },
  {
   "cell_type": "code",
   "execution_count": 29,
   "metadata": {},
   "outputs": [],
   "source": [
    "# Create a list to store comment dictionaries\n",
    "comments_list = []"
   ]
  },
  {
   "cell_type": "code",
   "execution_count": 30,
   "metadata": {},
   "outputs": [],
   "source": [
    "company = \"Company 1\""
   ]
  },
  {
   "cell_type": "markdown",
   "metadata": {},
   "source": [
    "# Access Database"
   ]
  },
  {
   "cell_type": "code",
   "execution_count": 31,
   "metadata": {},
   "outputs": [],
   "source": [
    "import pymysql"
   ]
  },
  {
   "cell_type": "code",
   "execution_count": 32,
   "metadata": {},
   "outputs": [],
   "source": [
    "\n",
    "def connect():\n",
    "    con=pymysql.connect(host='localhost',user='root',password='',db='companyinfo',charset='utf8mb4')\n",
    "    return con"
   ]
  },
  {
   "cell_type": "code",
   "execution_count": 33,
   "metadata": {},
   "outputs": [],
   "source": [
    "con = connect()\n",
    "stm = con.cursor()"
   ]
  },
  {
   "cell_type": "code",
   "execution_count": 34,
   "metadata": {},
   "outputs": [
    {
     "data": {
      "text/plain": [
       "1"
      ]
     },
     "execution_count": 34,
     "metadata": {},
     "output_type": "execute_result"
    }
   ],
   "source": [
    "q = f\"select * from companydetails where CompanyName='{company}'\"\n",
    "stm.execute(q)"
   ]
  },
  {
   "cell_type": "code",
   "execution_count": 35,
   "metadata": {},
   "outputs": [
    {
     "data": {
      "text/plain": [
       "(('Company 1',\n",
       "  'companytest889@gmail.com',\n",
       "  '61553129864051',\n",
       "  '122106163322104328',\n",
       "  '17991588476185435',\n",
       "  10.0),)"
      ]
     },
     "execution_count": 35,
     "metadata": {},
     "output_type": "execute_result"
    }
   ],
   "source": [
    "rows = stm.fetchall()\n",
    "rows"
   ]
  },
  {
   "cell_type": "code",
   "execution_count": 36,
   "metadata": {},
   "outputs": [],
   "source": [
    "Reciver_Mail = rows[0][1]\n",
    "page_id = rows[0][2]\n",
    "FB_post_id = rows[0][3]\n",
    "INS_post_id = rows[0][4]\n",
    "prev = rows[0][5]"
   ]
  },
  {
   "cell_type": "markdown",
   "metadata": {},
   "source": [
    "## (a) Facebook (Meta Graph API)"
   ]
  },
  {
   "cell_type": "code",
   "execution_count": 37,
   "metadata": {},
   "outputs": [
    {
     "name": "stdout",
     "output_type": "stream",
     "text": [
      "{'Message': 'positive', 'Timestamp': '2023-11-12T07:58:48+0000', 'Source': 'Facebook'}\n",
      "{'Message': 'helo', 'Timestamp': '2023-11-12T06:44:30+0000', 'Source': 'Facebook'}\n",
      "{'Message': 'ok', 'Timestamp': '2023-11-12T06:56:52+0000', 'Source': 'Facebook'}\n",
      "{'Message': 'hey', 'Timestamp': '2023-11-12T07:06:08+0000', 'Source': 'Facebook'}\n"
     ]
    }
   ],
   "source": [
    "#Scrapping Facebook Comments\n",
    "user_access_token = config.FB_user_access_token\n",
    "\n",
    "url = f'https://graph.facebook.com/v18.0/{page_id}_{FB_post_id}/comments'\n",
    "\n",
    "params = {\n",
    "    'access_token': user_access_token,\n",
    "    'fields': 'message,created_time',\n",
    "}\n",
    "\n",
    "response = requests.get(url, params=params)\n",
    "data = response.json()\n",
    "\n",
    "# Populate the list with comments\n",
    "if 'data' in data:\n",
    "    for comment in data['data']:\n",
    "        from_info = comment.get('from', {})\n",
    "        comments_list.append({\n",
    "                                    'Message': comment['message'],\n",
    "                                    'Timestamp': comment['created_time'],\n",
    "                                    'Source' : 'Facebook',\n",
    "                              })\n",
    "for comment in comments_list:\n",
    "    print(comment);"
   ]
  },
  {
   "cell_type": "markdown",
   "metadata": {},
   "source": [
    "## (b) Instagram (Meta Graph API)"
   ]
  },
  {
   "cell_type": "code",
   "execution_count": 38,
   "metadata": {},
   "outputs": [
    {
     "name": "stdout",
     "output_type": "stream",
     "text": [
      "{'Message': 'positive', 'Timestamp': '2023-11-12T07:58:48+0000', 'Source': 'Facebook'}\n",
      "{'Message': 'helo', 'Timestamp': '2023-11-12T06:44:30+0000', 'Source': 'Facebook'}\n",
      "{'Message': 'ok', 'Timestamp': '2023-11-12T06:56:52+0000', 'Source': 'Facebook'}\n",
      "{'Message': 'hey', 'Timestamp': '2023-11-12T07:06:08+0000', 'Source': 'Facebook'}\n",
      "{'Message': 'joy mohunbagan', 'Timestamp': '2023-11-13T14:10:08+0000', 'Source': 'Instagram'}\n",
      "{'Message': 'pic is nice', 'Timestamp': '2023-11-13T14:09:01+0000', 'Source': 'Instagram'}\n",
      "{'Message': 'it is not good', 'Timestamp': '2023-11-13T13:54:07+0000', 'Source': 'Instagram'}\n",
      "{'Message': 'its is worst', 'Timestamp': '2023-11-13T13:53:24+0000', 'Source': 'Instagram'}\n",
      "{'Message': 'hi', 'Timestamp': '2023-11-12T10:53:33+0000', 'Source': 'Instagram'}\n",
      "{'Message': 'Hemlo', 'Timestamp': '2023-11-12T09:52:54+0000', 'Source': 'Instagram'}\n"
     ]
    }
   ],
   "source": [
    "#Scrapping Instagram comments\n",
    "user_access_token = config.INS_user_access_token\n",
    "url = f'https://graph.facebook.com/v18.0/{INS_post_id}/comments'\n",
    "params = {\n",
    "    'fields': 'text,timestamp',\n",
    "    'access_token': user_access_token,\n",
    "}\n",
    "\n",
    "response = requests.get(url, params=params)\n",
    "data = response.json()\n",
    "\n",
    "# Populate the list with comments\n",
    "if 'data' in data:\n",
    "    for comment in data['data']:\n",
    "        from_info = comment.get('from', {})\n",
    "        comments_list.append({\n",
    "                                    'Message':comment['text'],\n",
    "                                    'Timestamp': comment['timestamp'],\n",
    "                                    'Source' : 'Instagram',\n",
    "                            })\n",
    "\n",
    "for comment in comments_list:\n",
    "    print(comment);"
   ]
  },
  {
   "cell_type": "markdown",
   "metadata": {},
   "source": [
    "## Sentiment Analysis"
   ]
  },
  {
   "cell_type": "markdown",
   "metadata": {},
   "source": [
    "## Roberta Pretrained Model"
   ]
  },
  {
   "cell_type": "code",
   "execution_count": 39,
   "metadata": {},
   "outputs": [],
   "source": [
    "import pandas as pd\n",
    "import numpy as np\n",
    "import matplotlib.pyplot as plt\n",
    "import seaborn as sns"
   ]
  },
  {
   "cell_type": "code",
   "execution_count": 40,
   "metadata": {},
   "outputs": [],
   "source": [
    "from tqdm.notebook import tqdm"
   ]
  },
  {
   "cell_type": "code",
   "execution_count": 41,
   "metadata": {},
   "outputs": [],
   "source": [
    "from transformers import AutoTokenizer\n",
    "from transformers import AutoModelForSequenceClassification\n",
    "from scipy.special import softmax"
   ]
  },
  {
   "cell_type": "code",
   "execution_count": 42,
   "metadata": {},
   "outputs": [],
   "source": [
    "df = pd.DataFrame(comments_list, columns=['Message','Timestamp','Source'])"
   ]
  },
  {
   "cell_type": "code",
   "execution_count": 43,
   "metadata": {},
   "outputs": [
    {
     "name": "stdout",
     "output_type": "stream",
     "text": [
      "Message      object\n",
      "Timestamp    object\n",
      "Source       object\n",
      "dtype: object\n"
     ]
    },
    {
     "data": {
      "text/html": [
       "<div>\n",
       "<style scoped>\n",
       "    .dataframe tbody tr th:only-of-type {\n",
       "        vertical-align: middle;\n",
       "    }\n",
       "\n",
       "    .dataframe tbody tr th {\n",
       "        vertical-align: top;\n",
       "    }\n",
       "\n",
       "    .dataframe thead th {\n",
       "        text-align: right;\n",
       "    }\n",
       "</style>\n",
       "<table border=\"1\" class=\"dataframe\">\n",
       "  <thead>\n",
       "    <tr style=\"text-align: right;\">\n",
       "      <th></th>\n",
       "      <th>Message</th>\n",
       "      <th>Timestamp</th>\n",
       "      <th>Source</th>\n",
       "    </tr>\n",
       "  </thead>\n",
       "  <tbody>\n",
       "    <tr>\n",
       "      <th>0</th>\n",
       "      <td>positive</td>\n",
       "      <td>2023-11-12T07:58:48+0000</td>\n",
       "      <td>Facebook</td>\n",
       "    </tr>\n",
       "    <tr>\n",
       "      <th>1</th>\n",
       "      <td>helo</td>\n",
       "      <td>2023-11-12T06:44:30+0000</td>\n",
       "      <td>Facebook</td>\n",
       "    </tr>\n",
       "    <tr>\n",
       "      <th>2</th>\n",
       "      <td>ok</td>\n",
       "      <td>2023-11-12T06:56:52+0000</td>\n",
       "      <td>Facebook</td>\n",
       "    </tr>\n",
       "    <tr>\n",
       "      <th>3</th>\n",
       "      <td>hey</td>\n",
       "      <td>2023-11-12T07:06:08+0000</td>\n",
       "      <td>Facebook</td>\n",
       "    </tr>\n",
       "    <tr>\n",
       "      <th>4</th>\n",
       "      <td>joy mohunbagan</td>\n",
       "      <td>2023-11-13T14:10:08+0000</td>\n",
       "      <td>Instagram</td>\n",
       "    </tr>\n",
       "    <tr>\n",
       "      <th>5</th>\n",
       "      <td>pic is nice</td>\n",
       "      <td>2023-11-13T14:09:01+0000</td>\n",
       "      <td>Instagram</td>\n",
       "    </tr>\n",
       "    <tr>\n",
       "      <th>6</th>\n",
       "      <td>it is not good</td>\n",
       "      <td>2023-11-13T13:54:07+0000</td>\n",
       "      <td>Instagram</td>\n",
       "    </tr>\n",
       "    <tr>\n",
       "      <th>7</th>\n",
       "      <td>its is worst</td>\n",
       "      <td>2023-11-13T13:53:24+0000</td>\n",
       "      <td>Instagram</td>\n",
       "    </tr>\n",
       "    <tr>\n",
       "      <th>8</th>\n",
       "      <td>hi</td>\n",
       "      <td>2023-11-12T10:53:33+0000</td>\n",
       "      <td>Instagram</td>\n",
       "    </tr>\n",
       "    <tr>\n",
       "      <th>9</th>\n",
       "      <td>Hemlo</td>\n",
       "      <td>2023-11-12T09:52:54+0000</td>\n",
       "      <td>Instagram</td>\n",
       "    </tr>\n",
       "  </tbody>\n",
       "</table>\n",
       "</div>"
      ],
      "text/plain": [
       "          Message                 Timestamp     Source\n",
       "0        positive  2023-11-12T07:58:48+0000   Facebook\n",
       "1            helo  2023-11-12T06:44:30+0000   Facebook\n",
       "2              ok  2023-11-12T06:56:52+0000   Facebook\n",
       "3             hey  2023-11-12T07:06:08+0000   Facebook\n",
       "4  joy mohunbagan  2023-11-13T14:10:08+0000  Instagram\n",
       "5     pic is nice  2023-11-13T14:09:01+0000  Instagram\n",
       "6  it is not good  2023-11-13T13:54:07+0000  Instagram\n",
       "7    its is worst  2023-11-13T13:53:24+0000  Instagram\n",
       "8              hi  2023-11-12T10:53:33+0000  Instagram\n",
       "9           Hemlo  2023-11-12T09:52:54+0000  Instagram"
      ]
     },
     "execution_count": 43,
     "metadata": {},
     "output_type": "execute_result"
    }
   ],
   "source": [
    "print(df.dtypes)\n",
    "df"
   ]
  },
  {
   "cell_type": "code",
   "execution_count": 44,
   "metadata": {},
   "outputs": [],
   "source": [
    "df['Timestamp'] = pd.to_datetime(df['Timestamp'])"
   ]
  },
  {
   "cell_type": "code",
   "execution_count": 45,
   "metadata": {},
   "outputs": [
    {
     "name": "stdout",
     "output_type": "stream",
     "text": [
      "Message                   object\n",
      "Timestamp    datetime64[ns, UTC]\n",
      "Source                    object\n",
      "dtype: object\n"
     ]
    }
   ],
   "source": [
    "print(df.dtypes)"
   ]
  },
  {
   "cell_type": "code",
   "execution_count": 46,
   "metadata": {},
   "outputs": [],
   "source": [
    "df.sort_values(by='Timestamp', inplace = True)"
   ]
  },
  {
   "cell_type": "code",
   "execution_count": 47,
   "metadata": {},
   "outputs": [
    {
     "data": {
      "text/html": [
       "<div>\n",
       "<style scoped>\n",
       "    .dataframe tbody tr th:only-of-type {\n",
       "        vertical-align: middle;\n",
       "    }\n",
       "\n",
       "    .dataframe tbody tr th {\n",
       "        vertical-align: top;\n",
       "    }\n",
       "\n",
       "    .dataframe thead th {\n",
       "        text-align: right;\n",
       "    }\n",
       "</style>\n",
       "<table border=\"1\" class=\"dataframe\">\n",
       "  <thead>\n",
       "    <tr style=\"text-align: right;\">\n",
       "      <th></th>\n",
       "      <th>Message</th>\n",
       "      <th>Timestamp</th>\n",
       "      <th>Source</th>\n",
       "    </tr>\n",
       "  </thead>\n",
       "  <tbody>\n",
       "    <tr>\n",
       "      <th>1</th>\n",
       "      <td>helo</td>\n",
       "      <td>2023-11-12 06:44:30+00:00</td>\n",
       "      <td>Facebook</td>\n",
       "    </tr>\n",
       "    <tr>\n",
       "      <th>2</th>\n",
       "      <td>ok</td>\n",
       "      <td>2023-11-12 06:56:52+00:00</td>\n",
       "      <td>Facebook</td>\n",
       "    </tr>\n",
       "    <tr>\n",
       "      <th>3</th>\n",
       "      <td>hey</td>\n",
       "      <td>2023-11-12 07:06:08+00:00</td>\n",
       "      <td>Facebook</td>\n",
       "    </tr>\n",
       "    <tr>\n",
       "      <th>0</th>\n",
       "      <td>positive</td>\n",
       "      <td>2023-11-12 07:58:48+00:00</td>\n",
       "      <td>Facebook</td>\n",
       "    </tr>\n",
       "    <tr>\n",
       "      <th>9</th>\n",
       "      <td>Hemlo</td>\n",
       "      <td>2023-11-12 09:52:54+00:00</td>\n",
       "      <td>Instagram</td>\n",
       "    </tr>\n",
       "    <tr>\n",
       "      <th>8</th>\n",
       "      <td>hi</td>\n",
       "      <td>2023-11-12 10:53:33+00:00</td>\n",
       "      <td>Instagram</td>\n",
       "    </tr>\n",
       "    <tr>\n",
       "      <th>7</th>\n",
       "      <td>its is worst</td>\n",
       "      <td>2023-11-13 13:53:24+00:00</td>\n",
       "      <td>Instagram</td>\n",
       "    </tr>\n",
       "    <tr>\n",
       "      <th>6</th>\n",
       "      <td>it is not good</td>\n",
       "      <td>2023-11-13 13:54:07+00:00</td>\n",
       "      <td>Instagram</td>\n",
       "    </tr>\n",
       "    <tr>\n",
       "      <th>5</th>\n",
       "      <td>pic is nice</td>\n",
       "      <td>2023-11-13 14:09:01+00:00</td>\n",
       "      <td>Instagram</td>\n",
       "    </tr>\n",
       "    <tr>\n",
       "      <th>4</th>\n",
       "      <td>joy mohunbagan</td>\n",
       "      <td>2023-11-13 14:10:08+00:00</td>\n",
       "      <td>Instagram</td>\n",
       "    </tr>\n",
       "  </tbody>\n",
       "</table>\n",
       "</div>"
      ],
      "text/plain": [
       "          Message                 Timestamp     Source\n",
       "1            helo 2023-11-12 06:44:30+00:00   Facebook\n",
       "2              ok 2023-11-12 06:56:52+00:00   Facebook\n",
       "3             hey 2023-11-12 07:06:08+00:00   Facebook\n",
       "0        positive 2023-11-12 07:58:48+00:00   Facebook\n",
       "9           Hemlo 2023-11-12 09:52:54+00:00  Instagram\n",
       "8              hi 2023-11-12 10:53:33+00:00  Instagram\n",
       "7    its is worst 2023-11-13 13:53:24+00:00  Instagram\n",
       "6  it is not good 2023-11-13 13:54:07+00:00  Instagram\n",
       "5     pic is nice 2023-11-13 14:09:01+00:00  Instagram\n",
       "4  joy mohunbagan 2023-11-13 14:10:08+00:00  Instagram"
      ]
     },
     "execution_count": 47,
     "metadata": {},
     "output_type": "execute_result"
    }
   ],
   "source": [
    "df"
   ]
  },
  {
   "cell_type": "code",
   "execution_count": 48,
   "metadata": {},
   "outputs": [],
   "source": [
    "MODEL = f\"cardiffnlp/twitter-roberta-base-sentiment\"\n",
    "tokenizer = AutoTokenizer.from_pretrained(MODEL)\n",
    "model = AutoModelForSequenceClassification.from_pretrained(MODEL)"
   ]
  },
  {
   "cell_type": "code",
   "execution_count": 49,
   "metadata": {},
   "outputs": [],
   "source": [
    "def polarity_scores_roberta(example):\n",
    "    encoded_text = tokenizer(example, return_tensors='pt')\n",
    "    output = model(**encoded_text)\n",
    "    scores = output[0][0].detach().numpy()\n",
    "    scores = softmax(scores)\n",
    "    scores_dict = {\n",
    "        'roberta_neg' : scores[0],\n",
    "        'roberta_neu' : scores[1],\n",
    "        'roberta_pos' : scores[2]\n",
    "    }\n",
    "    return scores_dict"
   ]
  },
  {
   "cell_type": "code",
   "execution_count": 50,
   "metadata": {},
   "outputs": [
    {
     "data": {
      "application/vnd.jupyter.widget-view+json": {
       "model_id": "619eaac8485843c5b70dc57879d7ecbc",
       "version_major": 2,
       "version_minor": 0
      },
      "text/plain": [
       "  0%|          | 0/10 [00:00<?, ?it/s]"
      ]
     },
     "metadata": {},
     "output_type": "display_data"
    },
    {
     "name": "stdout",
     "output_type": "stream",
     "text": [
      "Message                           helo\n",
      "Timestamp    2023-11-12 06:44:30+00:00\n",
      "Source                        Facebook\n",
      "Name: 1, dtype: object\n",
      "{'roberta_neg': 0.21808101, 'roberta_neu': 0.5567049, 'roberta_pos': 0.2252141}\n",
      "Message                             ok\n",
      "Timestamp    2023-11-12 06:56:52+00:00\n",
      "Source                        Facebook\n",
      "Name: 2, dtype: object\n",
      "{'roberta_neg': 0.25796354, 'roberta_neu': 0.49621224, 'roberta_pos': 0.24582422}\n",
      "Message                            hey\n",
      "Timestamp    2023-11-12 07:06:08+00:00\n",
      "Source                        Facebook\n",
      "Name: 3, dtype: object\n",
      "{'roberta_neg': 0.21231419, 'roberta_neu': 0.53059936, 'roberta_pos': 0.2570865}\n",
      "Message                       positive\n",
      "Timestamp    2023-11-12 07:58:48+00:00\n",
      "Source                        Facebook\n",
      "Name: 0, dtype: object\n",
      "{'roberta_neg': 0.023347158, 'roberta_neu': 0.31671837, 'roberta_pos': 0.65993446}\n",
      "Message                          Hemlo\n",
      "Timestamp    2023-11-12 09:52:54+00:00\n",
      "Source                       Instagram\n",
      "Name: 9, dtype: object\n",
      "{'roberta_neg': 0.18223727, 'roberta_neu': 0.62168956, 'roberta_pos': 0.19607313}\n",
      "Message                             hi\n",
      "Timestamp    2023-11-12 10:53:33+00:00\n",
      "Source                       Instagram\n",
      "Name: 8, dtype: object\n",
      "{'roberta_neg': 0.20451172, 'roberta_neu': 0.55214864, 'roberta_pos': 0.24333961}\n",
      "Message                   its is worst\n",
      "Timestamp    2023-11-13 13:53:24+00:00\n",
      "Source                       Instagram\n",
      "Name: 7, dtype: object\n",
      "{'roberta_neg': 0.94359654, 'roberta_neu': 0.047329202, 'roberta_pos': 0.009074297}\n",
      "Message                 it is not good\n",
      "Timestamp    2023-11-13 13:54:07+00:00\n",
      "Source                       Instagram\n",
      "Name: 6, dtype: object\n",
      "{'roberta_neg': 0.9658878, 'roberta_neu': 0.029183378, 'roberta_pos': 0.0049288278}\n",
      "Message                    pic is nice\n",
      "Timestamp    2023-11-13 14:09:01+00:00\n",
      "Source                       Instagram\n",
      "Name: 5, dtype: object\n",
      "{'roberta_neg': 0.0072710617, 'roberta_neu': 0.07606582, 'roberta_pos': 0.9166631}\n",
      "Message                 joy mohunbagan\n",
      "Timestamp    2023-11-13 14:10:08+00:00\n",
      "Source                       Instagram\n",
      "Name: 4, dtype: object\n",
      "{'roberta_neg': 0.08026455, 'roberta_neu': 0.7273787, 'roberta_pos': 0.19235675}\n"
     ]
    }
   ],
   "source": [
    "base : float\n",
    "base = 10.00\n",
    "\n",
    "res = {\n",
    "    'pos' : [],\n",
    "    'neg' : []\n",
    "}\n",
    "for i,row in tqdm(df.iterrows(), total=len(df)):\n",
    "    try:\n",
    "        print(row);\n",
    "        text = row['Message']\n",
    "        #myid = row['Id']\n",
    "        roberta_result = polarity_scores_roberta(text)\n",
    "        print(roberta_result)\n",
    "        if roberta_result['roberta_neg']>roberta_result['roberta_neu'] and roberta_result['roberta_neg']>roberta_result['roberta_pos'] :\n",
    "            base-=roberta_result['roberta_neg']\n",
    "            res['neg'].append({\n",
    "                'Comment' : row['Message'],\n",
    "                'Source' :row['Source']\n",
    "            })\n",
    "        if roberta_result['roberta_pos']>roberta_result['roberta_neu'] and roberta_result['roberta_pos']>roberta_result['roberta_neg'] :\n",
    "            base+=roberta_result['roberta_pos']\n",
    "            res['pos'].append({\n",
    "                'Comment' : row['Message'],\n",
    "                'Source' :row['Source']\n",
    "            })\n",
    "        #print(base);\n",
    "    except RuntimeError:\n",
    "        print(f'Broke for id {i}')"
   ]
  },
  {
   "cell_type": "code",
   "execution_count": 66,
   "metadata": {},
   "outputs": [
    {
     "name": "stdout",
     "output_type": "stream",
     "text": [
      "9.667113244533539\n"
     ]
    }
   ],
   "source": [
    "print(base)"
   ]
  },
  {
   "cell_type": "markdown",
   "metadata": {},
   "source": [
    "# Update Database"
   ]
  },
  {
   "cell_type": "code",
   "execution_count": 70,
   "metadata": {},
   "outputs": [],
   "source": [
    "q = f\"update companydetails set Score = {base} where CompanyName = '{company}'\"\n",
    "stm.execute(q)\n",
    "con.commit()"
   ]
  },
  {
   "cell_type": "markdown",
   "metadata": {},
   "source": [
    "# Sending Email"
   ]
  },
  {
   "cell_type": "code",
   "execution_count": 55,
   "metadata": {},
   "outputs": [],
   "source": [
    "import smtplib\n",
    "from email.mime.text import MIMEText\n",
    "from email.mime.multipart import MIMEMultipart"
   ]
  },
  {
   "cell_type": "code",
   "execution_count": 56,
   "metadata": {},
   "outputs": [],
   "source": [
    "def send_email(subject, body, to_email, smtp_server, smtp_port, smtp_username, smtp_password):\n",
    "    # Create the MIME object\n",
    "    msg = MIMEMultipart()\n",
    "    msg['From'] = smtp_username\n",
    "    msg['To'] = to_email\n",
    "    msg['Subject'] = subject\n",
    "\n",
    "    msg.attach(MIMEText(body, 'plain'))\n",
    "\n",
    "    server = smtplib.SMTP(smtp_server, smtp_port)\n",
    "    server.starttls()\n",
    "    server.login(smtp_username, smtp_password)\n",
    "\n",
    "    server.sendmail(smtp_username, to_email, msg.as_string())\n",
    "    server.quit()"
   ]
  },
  {
   "cell_type": "code",
   "execution_count": 57,
   "metadata": {},
   "outputs": [],
   "source": [
    "subject = \"Change In Score Detected\"\n",
    "body = f\"New Score : {base} \\nDelta change : {base-prev} \\nLast 5 negitive comments:{res['neg'][-5:]} \\nLast 5 positive comments:{res['pos'][-5:]}\""
   ]
  },
  {
   "cell_type": "code",
   "execution_count": 58,
   "metadata": {},
   "outputs": [],
   "source": [
    "smtp_server = \"smtp.gmail.com\"\n",
    "smtp_port = 587 "
   ]
  },
  {
   "cell_type": "code",
   "execution_count": 59,
   "metadata": {},
   "outputs": [],
   "source": [
    "if(prev!=base) :\n",
    "    send_email(subject=subject,\n",
    "            body=body,\n",
    "            to_email=Reciver_Mail,\n",
    "            smtp_server=smtp_server,\n",
    "            smtp_port=smtp_port,\n",
    "            smtp_username=config.Sender_mail,\n",
    "            smtp_password=config.AppPassword)\n",
    "    print(\"Mail send\")"
   ]
  },
  {
   "cell_type": "code",
   "execution_count": 71,
   "metadata": {},
   "outputs": [],
   "source": [
    "stm.close()\n",
    "con.close()"
   ]
  }
 ],
 "metadata": {
  "kernelspec": {
   "display_name": "base",
   "language": "python",
   "name": "python3"
  },
  "language_info": {
   "codemirror_mode": {
    "name": "ipython",
    "version": 3
   },
   "file_extension": ".py",
   "mimetype": "text/x-python",
   "name": "python",
   "nbconvert_exporter": "python",
   "pygments_lexer": "ipython3",
   "version": "3.9.12"
  }
 },
 "nbformat": 4,
 "nbformat_minor": 2
}
